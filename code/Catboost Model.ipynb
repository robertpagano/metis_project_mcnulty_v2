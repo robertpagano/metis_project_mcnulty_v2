{
 "cells": [
  {
   "cell_type": "code",
   "execution_count": 1,
   "metadata": {},
   "outputs": [],
   "source": [
    "from sklearn.model_selection import train_test_split\n",
    "\n",
    "\n",
    "from sklearn.model_selection import RandomizedSearchCV\n",
    "from sklearn.model_selection import GridSearchCV\n",
    "from sklearn.model_selection import cross_validate\n",
    "\n",
    "from catboost import CatBoostClassifier\n",
    "\n",
    "import pandas as pd\n",
    "import numpy as np\n",
    "\n",
    "import seaborn as sns\n",
    "import matplotlib.pyplot as plt\n",
    "\n",
    "%matplotlib inline\n",
    "\n",
    "import pickle"
   ]
  },
  {
   "cell_type": "code",
   "execution_count": 2,
   "metadata": {},
   "outputs": [],
   "source": [
    "with open('/Users/robertpagano/src/metis_project_mcnulty/data/final_for_modeling/final_features_catboost_trimmed.pickle', 'rb') as f:\n",
    "    df_X = pickle.load(f)"
   ]
  },
  {
   "cell_type": "code",
   "execution_count": 3,
   "metadata": {},
   "outputs": [
    {
     "data": {
      "text/html": [
       "<div>\n",
       "<style scoped>\n",
       "    .dataframe tbody tr th:only-of-type {\n",
       "        vertical-align: middle;\n",
       "    }\n",
       "\n",
       "    .dataframe tbody tr th {\n",
       "        vertical-align: top;\n",
       "    }\n",
       "\n",
       "    .dataframe thead th {\n",
       "        text-align: right;\n",
       "    }\n",
       "</style>\n",
       "<table border=\"1\" class=\"dataframe\">\n",
       "  <thead>\n",
       "    <tr style=\"text-align: right;\">\n",
       "      <th></th>\n",
       "      <th>outcome_type_Transfer</th>\n",
       "      <th>intake_type</th>\n",
       "      <th>intake_condition</th>\n",
       "      <th>sex_fixed_intake</th>\n",
       "      <th>intake_month_name</th>\n",
       "      <th>weekday_intake</th>\n",
       "      <th>intake_temp</th>\n",
       "      <th>intake_precip</th>\n",
       "      <th>real_age_intake_days</th>\n",
       "      <th>cat_or_kitten</th>\n",
       "      <th>breed_type</th>\n",
       "      <th>intakes_last_week</th>\n",
       "    </tr>\n",
       "  </thead>\n",
       "  <tbody>\n",
       "    <tr>\n",
       "      <th>0</th>\n",
       "      <td>1</td>\n",
       "      <td>Stray</td>\n",
       "      <td>Normal</td>\n",
       "      <td>Unknown</td>\n",
       "      <td>October</td>\n",
       "      <td>Tuesday</td>\n",
       "      <td>75.4</td>\n",
       "      <td>0.0</td>\n",
       "      <td>7</td>\n",
       "      <td>Kitten</td>\n",
       "      <td>Domestic Breed</td>\n",
       "      <td>1.0</td>\n",
       "    </tr>\n",
       "    <tr>\n",
       "      <th>1</th>\n",
       "      <td>1</td>\n",
       "      <td>Stray</td>\n",
       "      <td>Normal</td>\n",
       "      <td>Unknown</td>\n",
       "      <td>October</td>\n",
       "      <td>Tuesday</td>\n",
       "      <td>75.4</td>\n",
       "      <td>0.0</td>\n",
       "      <td>7</td>\n",
       "      <td>Kitten</td>\n",
       "      <td>Domestic Breed</td>\n",
       "      <td>2.0</td>\n",
       "    </tr>\n",
       "    <tr>\n",
       "      <th>2</th>\n",
       "      <td>1</td>\n",
       "      <td>Stray</td>\n",
       "      <td>Normal</td>\n",
       "      <td>Unknown</td>\n",
       "      <td>October</td>\n",
       "      <td>Tuesday</td>\n",
       "      <td>75.4</td>\n",
       "      <td>0.0</td>\n",
       "      <td>7</td>\n",
       "      <td>Kitten</td>\n",
       "      <td>Domestic Breed</td>\n",
       "      <td>3.0</td>\n",
       "    </tr>\n",
       "    <tr>\n",
       "      <th>3</th>\n",
       "      <td>1</td>\n",
       "      <td>Owner Surrender</td>\n",
       "      <td>Normal</td>\n",
       "      <td>Neutered Male</td>\n",
       "      <td>October</td>\n",
       "      <td>Tuesday</td>\n",
       "      <td>75.4</td>\n",
       "      <td>0.0</td>\n",
       "      <td>6209</td>\n",
       "      <td>Cat</td>\n",
       "      <td>Domestic Breed</td>\n",
       "      <td>4.0</td>\n",
       "    </tr>\n",
       "    <tr>\n",
       "      <th>4</th>\n",
       "      <td>1</td>\n",
       "      <td>Stray</td>\n",
       "      <td>Normal</td>\n",
       "      <td>Intact Female</td>\n",
       "      <td>October</td>\n",
       "      <td>Tuesday</td>\n",
       "      <td>75.4</td>\n",
       "      <td>0.0</td>\n",
       "      <td>21</td>\n",
       "      <td>Kitten</td>\n",
       "      <td>Domestic Breed</td>\n",
       "      <td>5.0</td>\n",
       "    </tr>\n",
       "  </tbody>\n",
       "</table>\n",
       "</div>"
      ],
      "text/plain": [
       "   outcome_type_Transfer      intake_type intake_condition sex_fixed_intake  \\\n",
       "0                      1            Stray           Normal          Unknown   \n",
       "1                      1            Stray           Normal          Unknown   \n",
       "2                      1            Stray           Normal          Unknown   \n",
       "3                      1  Owner Surrender           Normal    Neutered Male   \n",
       "4                      1            Stray           Normal    Intact Female   \n",
       "\n",
       "  intake_month_name weekday_intake  intake_temp  intake_precip  \\\n",
       "0           October        Tuesday         75.4            0.0   \n",
       "1           October        Tuesday         75.4            0.0   \n",
       "2           October        Tuesday         75.4            0.0   \n",
       "3           October        Tuesday         75.4            0.0   \n",
       "4           October        Tuesday         75.4            0.0   \n",
       "\n",
       "   real_age_intake_days cat_or_kitten      breed_type  intakes_last_week  \n",
       "0                     7        Kitten  Domestic Breed                1.0  \n",
       "1                     7        Kitten  Domestic Breed                2.0  \n",
       "2                     7        Kitten  Domestic Breed                3.0  \n",
       "3                  6209           Cat  Domestic Breed                4.0  \n",
       "4                    21        Kitten  Domestic Breed                5.0  "
      ]
     },
     "execution_count": 3,
     "metadata": {},
     "output_type": "execute_result"
    }
   ],
   "source": [
    "df_X.head()"
   ]
  },
  {
   "cell_type": "code",
   "execution_count": 4,
   "metadata": {},
   "outputs": [],
   "source": [
    "X = df_X.iloc[:, 1:]\n",
    "y = df_X.iloc[:, 0]"
   ]
  },
  {
   "cell_type": "code",
   "execution_count": 5,
   "metadata": {},
   "outputs": [],
   "source": [
    "X_train, X_test, y_train, y_test = train_test_split(X, y, test_size=0.2, random_state=42)"
   ]
  },
  {
   "cell_type": "code",
   "execution_count": 6,
   "metadata": {},
   "outputs": [
    {
     "data": {
      "text/plain": [
       "intake_type              object\n",
       "intake_condition         object\n",
       "sex_fixed_intake         object\n",
       "intake_month_name        object\n",
       "weekday_intake           object\n",
       "intake_temp             float64\n",
       "intake_precip           float64\n",
       "real_age_intake_days      int64\n",
       "cat_or_kitten            object\n",
       "breed_type               object\n",
       "intakes_last_week       float64\n",
       "dtype: object"
      ]
     },
     "execution_count": 6,
     "metadata": {},
     "output_type": "execute_result"
    }
   ],
   "source": [
    "X.dtypes"
   ]
  },
  {
   "cell_type": "code",
   "execution_count": 19,
   "metadata": {},
   "outputs": [
    {
     "data": {
      "text/plain": [
       "['intake_type',\n",
       " 'intake_condition',\n",
       " 'sex_fixed_intake',\n",
       " 'intake_month_name',\n",
       " 'weekday_intake',\n",
       " 'intake_temp',\n",
       " 'intake_precip',\n",
       " 'real_age_intake_days',\n",
       " 'cat_or_kitten',\n",
       " 'breed_type',\n",
       " 'intakes_last_week']"
      ]
     },
     "execution_count": 19,
     "metadata": {},
     "output_type": "execute_result"
    }
   ],
   "source": [
    "feature_list"
   ]
  },
  {
   "cell_type": "code",
   "execution_count": 25,
   "metadata": {},
   "outputs": [
    {
     "data": {
      "text/plain": [
       "array([0.  , 0.43, 0.76, 0.03, 5.49, 0.75, 0.42, 0.37, 0.48, 0.01, 0.53,\n",
       "       0.1 , 0.14, 4.52, 0.04, 0.34, 0.28, 1.27, 0.67, 0.02, 0.47, 0.61,\n",
       "       0.07, 0.15, 0.2 , 0.26, 0.09, 0.11, 0.05, 0.13, 0.06, 0.25, 0.58,\n",
       "       0.27, 1.14, 3.27, 0.19, 3.09, 0.55, 0.24, 0.49, 0.31, 5.05, 0.98,\n",
       "       0.41, 0.08, 0.69, 0.21, 1.28, 1.15, 0.16, 0.17, 1.57, 3.4 , 1.38,\n",
       "       0.22, 0.91, 0.63, 0.45, 0.79, 1.48, 0.36, 0.33, 0.9 , 1.22, 1.49,\n",
       "       0.57, 0.64, 3.85, 0.29, 0.4 , 0.23, 1.13, 1.63, 0.97, 0.35, 1.97,\n",
       "       5.2 , 0.87, 1.12, 1.05, 1.86, 2.13, 1.09, 0.5 , 0.92, 2.68, 2.8 ,\n",
       "       0.44, 1.03, 0.81, 1.52, 1.33, 1.45, 1.25, 0.39, 0.18, 1.59, 1.96,\n",
       "       0.59, 0.54, 1.1 , 0.6 , 0.77, 0.72, 2.12, 0.85, 1.07, 1.06, 1.42,\n",
       "       1.51, 1.81, 0.12, 1.8 , 0.62, 0.94, 1.76, 0.3 , 1.19, 0.73, 1.31,\n",
       "       0.7 , 0.32, 0.66, 0.56, 0.68, 1.39, 1.7 , 0.71, 7.  , 1.6 , 1.64,\n",
       "       0.38, 1.32, 2.72, 0.8 , 3.68, 1.3 , 1.77, 1.87, 1.35, 0.96, 1.62,\n",
       "       2.11, 0.51, 1.08, 2.31, 2.5 , 1.16, 2.21])"
      ]
     },
     "execution_count": 25,
     "metadata": {},
     "output_type": "execute_result"
    }
   ],
   "source": [
    "df_X['intake_precip'].unique()"
   ]
  },
  {
   "cell_type": "code",
   "execution_count": 7,
   "metadata": {},
   "outputs": [],
   "source": [
    "from catboost import Pool, cv"
   ]
  },
  {
   "cell_type": "code",
   "execution_count": 8,
   "metadata": {},
   "outputs": [],
   "source": [
    "categorical_features_indices = np.where(X.dtypes == np.object)[0]\n"
   ]
  },
  {
   "cell_type": "code",
   "execution_count": 9,
   "metadata": {},
   "outputs": [
    {
     "data": {
      "text/plain": [
       "array([0, 1, 2, 3, 4, 8, 9])"
      ]
     },
     "execution_count": 9,
     "metadata": {},
     "output_type": "execute_result"
    }
   ],
   "source": [
    "categorical_features_indices"
   ]
  },
  {
   "cell_type": "code",
   "execution_count": 10,
   "metadata": {},
   "outputs": [],
   "source": [
    "## Functionizing my metrics\n",
    "\n",
    "def auc(m, X_train, X_test): \n",
    "    return (metrics.roc_auc_score(y_train,m.predict_proba(X_train)[:,1]),\n",
    "                            metrics.roc_auc_score(y_test,m.predict_proba(X_test)[:,1]))\n",
    "\n",
    "def acc(m, X_train, X_test): \n",
    "    return (metrics.accuracy_score(y_train,m.predict_proba(X_train)[:,1]),\n",
    "                            metrics.accuracy_score(y_test,m.predict_proba(X_test)[:,1]))\n",
    "\n",
    "def f1(m, X_train, X_test): \n",
    "    return (metrics.f1_score(y_train,m.predict_proba(X_train)[:,1]),\n",
    "                            metrics.f1_score(y_test,m.predict_proba(X_test)[:,1]))\n",
    "\n",
    "def prec(m, X_train, X_test): \n",
    "    return (metrics.precision_score(y_train,m.predict_proba(X_train)[:,1]),\n",
    "                            metrics.precision_score(y_test,m.predict_proba(X_test)[:,1]))\n",
    "\n",
    "def recall(m, X_train, X_test): \n",
    "    return (metrics.recall_score(y_train,m.predict_proba(X_train)[:,1]),\n",
    "                            metrics.recall_score(y_test,m.predict_proba(X_test)[:,1]))"
   ]
  },
  {
   "cell_type": "code",
   "execution_count": null,
   "metadata": {},
   "outputs": [],
   "source": []
  },
  {
   "cell_type": "code",
   "execution_count": null,
   "metadata": {},
   "outputs": [],
   "source": []
  },
  {
   "cell_type": "code",
   "execution_count": null,
   "metadata": {},
   "outputs": [],
   "source": []
  },
  {
   "cell_type": "code",
   "execution_count": 11,
   "metadata": {},
   "outputs": [],
   "source": [
    "from sklearn import metrics\n"
   ]
  },
  {
   "cell_type": "code",
   "execution_count": 12,
   "metadata": {},
   "outputs": [
    {
     "name": "stdout",
     "output_type": "stream",
     "text": [
      "0:\ttotal: 508ms\tremaining: 4m 13s\n",
      "1:\ttotal: 647ms\tremaining: 2m 41s\n",
      "2:\ttotal: 1s\tremaining: 2m 46s\n",
      "3:\ttotal: 1.06s\tremaining: 2m 11s\n",
      "4:\ttotal: 1.22s\tremaining: 2m\n",
      "5:\ttotal: 1.57s\tremaining: 2m 9s\n",
      "6:\ttotal: 1.64s\tremaining: 1m 55s\n",
      "7:\ttotal: 1.98s\tremaining: 2m 1s\n",
      "8:\ttotal: 2.31s\tremaining: 2m 6s\n",
      "9:\ttotal: 2.42s\tremaining: 1m 58s\n",
      "10:\ttotal: 2.6s\tremaining: 1m 55s\n",
      "11:\ttotal: 2.65s\tremaining: 1m 47s\n",
      "12:\ttotal: 2.98s\tremaining: 1m 51s\n",
      "13:\ttotal: 3.07s\tremaining: 1m 46s\n",
      "14:\ttotal: 3.15s\tremaining: 1m 42s\n",
      "15:\ttotal: 3.18s\tremaining: 1m 36s\n",
      "16:\ttotal: 3.49s\tremaining: 1m 39s\n",
      "17:\ttotal: 3.52s\tremaining: 1m 34s\n",
      "18:\ttotal: 3.57s\tremaining: 1m 30s\n",
      "19:\ttotal: 3.71s\tremaining: 1m 29s\n",
      "20:\ttotal: 4.06s\tremaining: 1m 32s\n",
      "21:\ttotal: 4.45s\tremaining: 1m 36s\n",
      "22:\ttotal: 4.49s\tremaining: 1m 33s\n",
      "23:\ttotal: 4.83s\tremaining: 1m 35s\n",
      "24:\ttotal: 4.88s\tremaining: 1m 32s\n",
      "25:\ttotal: 5.23s\tremaining: 1m 35s\n",
      "26:\ttotal: 5.29s\tremaining: 1m 32s\n",
      "27:\ttotal: 5.33s\tremaining: 1m 29s\n",
      "28:\ttotal: 5.37s\tremaining: 1m 27s\n",
      "29:\ttotal: 5.41s\tremaining: 1m 24s\n",
      "30:\ttotal: 5.45s\tremaining: 1m 22s\n",
      "31:\ttotal: 5.49s\tremaining: 1m 20s\n",
      "32:\ttotal: 5.54s\tremaining: 1m 18s\n",
      "33:\ttotal: 5.62s\tremaining: 1m 17s\n",
      "34:\ttotal: 5.65s\tremaining: 1m 15s\n",
      "35:\ttotal: 5.7s\tremaining: 1m 13s\n",
      "36:\ttotal: 5.72s\tremaining: 1m 11s\n",
      "37:\ttotal: 5.76s\tremaining: 1m 9s\n",
      "38:\ttotal: 5.89s\tremaining: 1m 9s\n",
      "39:\ttotal: 5.93s\tremaining: 1m 8s\n",
      "40:\ttotal: 6.29s\tremaining: 1m 10s\n",
      "41:\ttotal: 6.6s\tremaining: 1m 12s\n",
      "42:\ttotal: 6.64s\tremaining: 1m 10s\n",
      "43:\ttotal: 6.67s\tremaining: 1m 9s\n",
      "44:\ttotal: 6.75s\tremaining: 1m 8s\n",
      "45:\ttotal: 7.17s\tremaining: 1m 10s\n",
      "46:\ttotal: 7.19s\tremaining: 1m 9s\n",
      "47:\ttotal: 7.23s\tremaining: 1m 8s\n",
      "48:\ttotal: 7.26s\tremaining: 1m 6s\n",
      "49:\ttotal: 7.34s\tremaining: 1m 6s\n",
      "50:\ttotal: 7.51s\tremaining: 1m 6s\n",
      "51:\ttotal: 7.86s\tremaining: 1m 7s\n",
      "52:\ttotal: 7.91s\tremaining: 1m 6s\n",
      "53:\ttotal: 7.94s\tremaining: 1m 5s\n",
      "54:\ttotal: 8.27s\tremaining: 1m 6s\n",
      "55:\ttotal: 8.36s\tremaining: 1m 6s\n",
      "56:\ttotal: 8.38s\tremaining: 1m 5s\n",
      "57:\ttotal: 8.47s\tremaining: 1m 4s\n",
      "58:\ttotal: 8.54s\tremaining: 1m 3s\n",
      "59:\ttotal: 8.59s\tremaining: 1m 3s\n",
      "60:\ttotal: 8.62s\tremaining: 1m 2s\n",
      "61:\ttotal: 8.65s\tremaining: 1m 1s\n",
      "62:\ttotal: 8.71s\tremaining: 1m\n",
      "63:\ttotal: 8.75s\tremaining: 59.6s\n",
      "64:\ttotal: 8.9s\tremaining: 59.6s\n",
      "65:\ttotal: 8.98s\tremaining: 59.1s\n",
      "66:\ttotal: 9.01s\tremaining: 58.2s\n",
      "67:\ttotal: 9.05s\tremaining: 57.5s\n",
      "68:\ttotal: 9.1s\tremaining: 56.8s\n",
      "69:\ttotal: 9.13s\tremaining: 56.1s\n",
      "70:\ttotal: 9.28s\tremaining: 56.1s\n",
      "71:\ttotal: 9.33s\tremaining: 55.5s\n",
      "72:\ttotal: 9.4s\tremaining: 55s\n",
      "73:\ttotal: 9.54s\tremaining: 54.9s\n",
      "74:\ttotal: 9.57s\tremaining: 54.3s\n",
      "75:\ttotal: 9.6s\tremaining: 53.6s\n",
      "76:\ttotal: 10s\tremaining: 55s\n",
      "77:\ttotal: 10s\tremaining: 54.4s\n",
      "78:\ttotal: 10.5s\tremaining: 55.8s\n",
      "79:\ttotal: 10.9s\tremaining: 57.1s\n",
      "80:\ttotal: 11.3s\tremaining: 58.5s\n",
      "81:\ttotal: 11.7s\tremaining: 59.4s\n",
      "82:\ttotal: 12s\tremaining: 1m\n",
      "83:\ttotal: 12.4s\tremaining: 1m 1s\n",
      "84:\ttotal: 12.8s\tremaining: 1m 2s\n",
      "85:\ttotal: 13s\tremaining: 1m 2s\n",
      "86:\ttotal: 13.4s\tremaining: 1m 3s\n",
      "87:\ttotal: 13.7s\tremaining: 1m 4s\n",
      "88:\ttotal: 14.1s\tremaining: 1m 5s\n",
      "89:\ttotal: 14.4s\tremaining: 1m 5s\n",
      "90:\ttotal: 14.8s\tremaining: 1m 6s\n",
      "91:\ttotal: 15.1s\tremaining: 1m 7s\n",
      "92:\ttotal: 15.5s\tremaining: 1m 7s\n",
      "93:\ttotal: 15.9s\tremaining: 1m 8s\n",
      "94:\ttotal: 16.3s\tremaining: 1m 9s\n",
      "95:\ttotal: 16.6s\tremaining: 1m 9s\n",
      "96:\ttotal: 17s\tremaining: 1m 10s\n",
      "97:\ttotal: 17.3s\tremaining: 1m 11s\n",
      "98:\ttotal: 17.7s\tremaining: 1m 11s\n",
      "99:\ttotal: 18.1s\tremaining: 1m 12s\n",
      "100:\ttotal: 18.5s\tremaining: 1m 13s\n",
      "101:\ttotal: 18.9s\tremaining: 1m 13s\n",
      "102:\ttotal: 19.3s\tremaining: 1m 14s\n",
      "103:\ttotal: 19.7s\tremaining: 1m 14s\n",
      "104:\ttotal: 20s\tremaining: 1m 15s\n",
      "105:\ttotal: 20.4s\tremaining: 1m 16s\n",
      "106:\ttotal: 20.9s\tremaining: 1m 16s\n",
      "107:\ttotal: 21.2s\tremaining: 1m 16s\n",
      "108:\ttotal: 21.6s\tremaining: 1m 17s\n",
      "109:\ttotal: 22s\tremaining: 1m 17s\n",
      "110:\ttotal: 22.4s\tremaining: 1m 18s\n",
      "111:\ttotal: 22.8s\tremaining: 1m 18s\n",
      "112:\ttotal: 23.1s\tremaining: 1m 19s\n",
      "113:\ttotal: 23.6s\tremaining: 1m 19s\n",
      "114:\ttotal: 23.9s\tremaining: 1m 20s\n",
      "115:\ttotal: 24.3s\tremaining: 1m 20s\n",
      "116:\ttotal: 24.5s\tremaining: 1m 20s\n",
      "117:\ttotal: 24.9s\tremaining: 1m 20s\n",
      "118:\ttotal: 25.2s\tremaining: 1m 20s\n",
      "119:\ttotal: 25.6s\tremaining: 1m 20s\n",
      "120:\ttotal: 25.6s\tremaining: 1m 20s\n",
      "121:\ttotal: 26s\tremaining: 1m 20s\n",
      "122:\ttotal: 26.3s\tremaining: 1m 20s\n",
      "123:\ttotal: 26.4s\tremaining: 1m 20s\n",
      "124:\ttotal: 26.8s\tremaining: 1m 20s\n",
      "125:\ttotal: 27.1s\tremaining: 1m 20s\n",
      "126:\ttotal: 27.5s\tremaining: 1m 20s\n",
      "127:\ttotal: 27.8s\tremaining: 1m 20s\n",
      "128:\ttotal: 28.2s\tremaining: 1m 21s\n",
      "129:\ttotal: 28.5s\tremaining: 1m 21s\n",
      "130:\ttotal: 28.9s\tremaining: 1m 21s\n",
      "131:\ttotal: 29.3s\tremaining: 1m 21s\n",
      "132:\ttotal: 29.6s\tremaining: 1m 21s\n",
      "133:\ttotal: 30s\tremaining: 1m 22s\n",
      "134:\ttotal: 30.4s\tremaining: 1m 22s\n",
      "135:\ttotal: 31s\tremaining: 1m 22s\n",
      "136:\ttotal: 31.4s\tremaining: 1m 23s\n",
      "137:\ttotal: 31.8s\tremaining: 1m 23s\n",
      "138:\ttotal: 32.1s\tremaining: 1m 23s\n",
      "139:\ttotal: 32.5s\tremaining: 1m 23s\n",
      "140:\ttotal: 32.8s\tremaining: 1m 23s\n",
      "141:\ttotal: 33.1s\tremaining: 1m 23s\n",
      "142:\ttotal: 33.5s\tremaining: 1m 23s\n",
      "143:\ttotal: 33.9s\tremaining: 1m 23s\n",
      "144:\ttotal: 34.2s\tremaining: 1m 23s\n",
      "145:\ttotal: 34.6s\tremaining: 1m 23s\n",
      "146:\ttotal: 34.9s\tremaining: 1m 23s\n",
      "147:\ttotal: 35.2s\tremaining: 1m 23s\n",
      "148:\ttotal: 35.6s\tremaining: 1m 23s\n",
      "149:\ttotal: 35.9s\tremaining: 1m 23s\n",
      "150:\ttotal: 36.2s\tremaining: 1m 23s\n",
      "151:\ttotal: 36.6s\tremaining: 1m 23s\n",
      "152:\ttotal: 36.9s\tremaining: 1m 23s\n",
      "153:\ttotal: 37.2s\tremaining: 1m 23s\n",
      "154:\ttotal: 37.6s\tremaining: 1m 23s\n",
      "155:\ttotal: 37.9s\tremaining: 1m 23s\n",
      "156:\ttotal: 38.2s\tremaining: 1m 23s\n",
      "157:\ttotal: 38.5s\tremaining: 1m 23s\n",
      "158:\ttotal: 38.9s\tremaining: 1m 23s\n",
      "159:\ttotal: 39.2s\tremaining: 1m 23s\n",
      "160:\ttotal: 39.5s\tremaining: 1m 23s\n",
      "161:\ttotal: 39.9s\tremaining: 1m 23s\n",
      "162:\ttotal: 40.2s\tremaining: 1m 23s\n",
      "163:\ttotal: 40.7s\tremaining: 1m 23s\n",
      "164:\ttotal: 41.1s\tremaining: 1m 23s\n",
      "165:\ttotal: 41.4s\tremaining: 1m 23s\n",
      "166:\ttotal: 41.8s\tremaining: 1m 23s\n",
      "167:\ttotal: 42.2s\tremaining: 1m 23s\n",
      "168:\ttotal: 42.6s\tremaining: 1m 23s\n",
      "169:\ttotal: 42.9s\tremaining: 1m 23s\n",
      "170:\ttotal: 43.3s\tremaining: 1m 23s\n",
      "171:\ttotal: 43.3s\tremaining: 1m 22s\n",
      "172:\ttotal: 43.6s\tremaining: 1m 22s\n",
      "173:\ttotal: 44s\tremaining: 1m 22s\n",
      "174:\ttotal: 44.3s\tremaining: 1m 22s\n",
      "175:\ttotal: 44.6s\tremaining: 1m 22s\n",
      "176:\ttotal: 44.7s\tremaining: 1m 21s\n",
      "177:\ttotal: 45s\tremaining: 1m 21s\n",
      "178:\ttotal: 45.4s\tremaining: 1m 21s\n",
      "179:\ttotal: 45.7s\tremaining: 1m 21s\n",
      "180:\ttotal: 46.1s\tremaining: 1m 21s\n",
      "181:\ttotal: 46.4s\tremaining: 1m 21s\n",
      "182:\ttotal: 46.8s\tremaining: 1m 21s\n",
      "183:\ttotal: 47.1s\tremaining: 1m 20s\n",
      "184:\ttotal: 47.5s\tremaining: 1m 20s\n",
      "185:\ttotal: 47.8s\tremaining: 1m 20s\n",
      "186:\ttotal: 48.2s\tremaining: 1m 20s\n",
      "187:\ttotal: 48.5s\tremaining: 1m 20s\n",
      "188:\ttotal: 49s\tremaining: 1m 20s\n",
      "189:\ttotal: 49.3s\tremaining: 1m 20s\n",
      "190:\ttotal: 49.6s\tremaining: 1m 20s\n",
      "191:\ttotal: 50s\tremaining: 1m 20s\n",
      "192:\ttotal: 50.3s\tremaining: 1m 20s\n",
      "193:\ttotal: 50.6s\tremaining: 1m 19s\n",
      "194:\ttotal: 51s\tremaining: 1m 19s\n",
      "195:\ttotal: 51.3s\tremaining: 1m 19s\n",
      "196:\ttotal: 51.6s\tremaining: 1m 19s\n",
      "197:\ttotal: 52s\tremaining: 1m 19s\n",
      "198:\ttotal: 52.3s\tremaining: 1m 19s\n",
      "199:\ttotal: 52.7s\tremaining: 1m 18s\n",
      "200:\ttotal: 53s\tremaining: 1m 18s\n",
      "201:\ttotal: 53.3s\tremaining: 1m 18s\n",
      "202:\ttotal: 53.7s\tremaining: 1m 18s\n",
      "203:\ttotal: 54s\tremaining: 1m 18s\n",
      "204:\ttotal: 54.3s\tremaining: 1m 18s\n",
      "205:\ttotal: 54.6s\tremaining: 1m 17s\n",
      "206:\ttotal: 55s\tremaining: 1m 17s\n",
      "207:\ttotal: 55.3s\tremaining: 1m 17s\n",
      "208:\ttotal: 55.6s\tremaining: 1m 17s\n",
      "209:\ttotal: 55.9s\tremaining: 1m 17s\n",
      "210:\ttotal: 56.3s\tremaining: 1m 17s\n",
      "211:\ttotal: 56.6s\tremaining: 1m 16s\n",
      "212:\ttotal: 56.9s\tremaining: 1m 16s\n",
      "213:\ttotal: 57.3s\tremaining: 1m 16s\n",
      "214:\ttotal: 57.6s\tremaining: 1m 16s\n",
      "215:\ttotal: 57.9s\tremaining: 1m 16s\n",
      "216:\ttotal: 58.2s\tremaining: 1m 15s\n",
      "217:\ttotal: 58.6s\tremaining: 1m 15s\n",
      "218:\ttotal: 58.9s\tremaining: 1m 15s\n",
      "219:\ttotal: 59.2s\tremaining: 1m 15s\n",
      "220:\ttotal: 59.5s\tremaining: 1m 15s\n",
      "221:\ttotal: 59.9s\tremaining: 1m 14s\n",
      "222:\ttotal: 1m\tremaining: 1m 14s\n",
      "223:\ttotal: 1m\tremaining: 1m 14s\n",
      "224:\ttotal: 1m\tremaining: 1m 14s\n",
      "225:\ttotal: 1m 1s\tremaining: 1m 14s\n",
      "226:\ttotal: 1m 2s\tremaining: 1m 14s\n",
      "227:\ttotal: 1m 2s\tremaining: 1m 14s\n",
      "228:\ttotal: 1m 2s\tremaining: 1m 14s\n",
      "229:\ttotal: 1m 3s\tremaining: 1m 14s\n"
     ]
    },
    {
     "ename": "KeyboardInterrupt",
     "evalue": "",
     "output_type": "error",
     "traceback": [
      "\u001b[0;31m---------------------------------------------------------------------------\u001b[0m",
      "\u001b[0;31mKeyboardInterrupt\u001b[0m                         Traceback (most recent call last)",
      "\u001b[0;32m<ipython-input-12-a811c654d718>\u001b[0m in \u001b[0;36m<module>\u001b[0;34m\u001b[0m\n\u001b[1;32m     10\u001b[0m \u001b[0;31m#With Categorical features\u001b[0m\u001b[0;34m\u001b[0m\u001b[0;34m\u001b[0m\u001b[0;34m\u001b[0m\u001b[0m\n\u001b[1;32m     11\u001b[0m \u001b[0mclf\u001b[0m \u001b[0;34m=\u001b[0m \u001b[0mCatBoostClassifier\u001b[0m\u001b[0;34m(\u001b[0m\u001b[0meval_metric\u001b[0m\u001b[0;34m=\u001b[0m\u001b[0;34m\"AUC\"\u001b[0m\u001b[0;34m,\u001b[0m \u001b[0mdepth\u001b[0m\u001b[0;34m=\u001b[0m\u001b[0;36m10\u001b[0m\u001b[0;34m,\u001b[0m \u001b[0miterations\u001b[0m\u001b[0;34m=\u001b[0m \u001b[0;36m500\u001b[0m\u001b[0;34m,\u001b[0m \u001b[0ml2_leaf_reg\u001b[0m\u001b[0;34m=\u001b[0m \u001b[0;36m9\u001b[0m\u001b[0;34m,\u001b[0m \u001b[0mlearning_rate\u001b[0m\u001b[0;34m=\u001b[0m \u001b[0;36m0.15\u001b[0m\u001b[0;34m)\u001b[0m\u001b[0;34m\u001b[0m\u001b[0;34m\u001b[0m\u001b[0m\n\u001b[0;32m---> 12\u001b[0;31m \u001b[0mclf\u001b[0m\u001b[0;34m.\u001b[0m\u001b[0mfit\u001b[0m\u001b[0;34m(\u001b[0m\u001b[0mX_train\u001b[0m\u001b[0;34m,\u001b[0m\u001b[0my_train\u001b[0m\u001b[0;34m,\u001b[0m \u001b[0mcat_features\u001b[0m\u001b[0;34m=\u001b[0m \u001b[0mcategorical_features_indices\u001b[0m\u001b[0;34m)\u001b[0m\u001b[0;34m\u001b[0m\u001b[0;34m\u001b[0m\u001b[0m\n\u001b[0m\u001b[1;32m     13\u001b[0m \u001b[0mauc\u001b[0m\u001b[0;34m(\u001b[0m\u001b[0mclf\u001b[0m\u001b[0;34m,\u001b[0m \u001b[0mX_train\u001b[0m\u001b[0;34m,\u001b[0m \u001b[0mX_test\u001b[0m\u001b[0;34m)\u001b[0m\u001b[0;34m\u001b[0m\u001b[0;34m\u001b[0m\u001b[0m\n\u001b[1;32m     14\u001b[0m \u001b[0;34m\u001b[0m\u001b[0m\n",
      "\u001b[0;32m/anaconda3/lib/python3.6/site-packages/catboost/core.py\u001b[0m in \u001b[0;36mfit\u001b[0;34m(self, X, y, cat_features, sample_weight, baseline, use_best_model, eval_set, verbose, logging_level, plot, column_description, verbose_eval, metric_period, silent, early_stopping_rounds, save_snapshot, snapshot_file, snapshot_interval)\u001b[0m\n\u001b[1;32m   2181\u001b[0m         self._fit(X, y, cat_features, None, sample_weight, None, None, None, None, baseline, use_best_model,\n\u001b[1;32m   2182\u001b[0m                   \u001b[0meval_set\u001b[0m\u001b[0;34m,\u001b[0m \u001b[0mverbose\u001b[0m\u001b[0;34m,\u001b[0m \u001b[0mlogging_level\u001b[0m\u001b[0;34m,\u001b[0m \u001b[0mplot\u001b[0m\u001b[0;34m,\u001b[0m \u001b[0mcolumn_description\u001b[0m\u001b[0;34m,\u001b[0m \u001b[0mverbose_eval\u001b[0m\u001b[0;34m,\u001b[0m \u001b[0mmetric_period\u001b[0m\u001b[0;34m,\u001b[0m\u001b[0;34m\u001b[0m\u001b[0;34m\u001b[0m\u001b[0m\n\u001b[0;32m-> 2183\u001b[0;31m                   silent, early_stopping_rounds, save_snapshot, snapshot_file, snapshot_interval)\n\u001b[0m\u001b[1;32m   2184\u001b[0m         \u001b[0;32mreturn\u001b[0m \u001b[0mself\u001b[0m\u001b[0;34m\u001b[0m\u001b[0;34m\u001b[0m\u001b[0m\n\u001b[1;32m   2185\u001b[0m \u001b[0;34m\u001b[0m\u001b[0m\n",
      "\u001b[0;32m/anaconda3/lib/python3.6/site-packages/catboost/core.py\u001b[0m in \u001b[0;36m_fit\u001b[0;34m(self, X, y, cat_features, pairs, sample_weight, group_id, group_weight, subgroup_id, pairs_weight, baseline, use_best_model, eval_set, verbose, logging_level, plot, column_description, verbose_eval, metric_period, silent, early_stopping_rounds, save_snapshot, snapshot_file, snapshot_interval)\u001b[0m\n\u001b[1;32m   1124\u001b[0m \u001b[0;34m\u001b[0m\u001b[0m\n\u001b[1;32m   1125\u001b[0m         \u001b[0;32mwith\u001b[0m \u001b[0mlog_fixup\u001b[0m\u001b[0;34m(\u001b[0m\u001b[0;34m)\u001b[0m\u001b[0;34m,\u001b[0m \u001b[0mplot_wrapper\u001b[0m\u001b[0;34m(\u001b[0m\u001b[0mplot\u001b[0m\u001b[0;34m,\u001b[0m \u001b[0mself\u001b[0m\u001b[0;34m.\u001b[0m\u001b[0mget_params\u001b[0m\u001b[0;34m(\u001b[0m\u001b[0;34m)\u001b[0m\u001b[0;34m)\u001b[0m\u001b[0;34m:\u001b[0m\u001b[0;34m\u001b[0m\u001b[0;34m\u001b[0m\u001b[0m\n\u001b[0;32m-> 1126\u001b[0;31m             \u001b[0mself\u001b[0m\u001b[0;34m.\u001b[0m\u001b[0m_train\u001b[0m\u001b[0;34m(\u001b[0m\u001b[0mtrain_pool\u001b[0m\u001b[0;34m,\u001b[0m \u001b[0meval_sets\u001b[0m\u001b[0;34m,\u001b[0m \u001b[0mparams\u001b[0m\u001b[0;34m,\u001b[0m \u001b[0mallow_clear_pool\u001b[0m\u001b[0;34m)\u001b[0m\u001b[0;34m\u001b[0m\u001b[0;34m\u001b[0m\u001b[0m\n\u001b[0m\u001b[1;32m   1127\u001b[0m \u001b[0;34m\u001b[0m\u001b[0m\n\u001b[1;32m   1128\u001b[0m         \u001b[0;32mif\u001b[0m \u001b[0;34m(\u001b[0m\u001b[0;32mnot\u001b[0m \u001b[0mself\u001b[0m\u001b[0;34m.\u001b[0m\u001b[0m_object\u001b[0m\u001b[0;34m.\u001b[0m\u001b[0m_has_leaf_weights_in_model\u001b[0m\u001b[0;34m(\u001b[0m\u001b[0;34m)\u001b[0m\u001b[0;34m)\u001b[0m \u001b[0;32mand\u001b[0m \u001b[0mallow_clear_pool\u001b[0m\u001b[0;34m:\u001b[0m\u001b[0;34m\u001b[0m\u001b[0;34m\u001b[0m\u001b[0m\n",
      "\u001b[0;32m/anaconda3/lib/python3.6/site-packages/catboost/core.py\u001b[0m in \u001b[0;36m_train\u001b[0;34m(self, train_pool, test_pool, params, allow_clear_pool)\u001b[0m\n\u001b[1;32m    826\u001b[0m \u001b[0;34m\u001b[0m\u001b[0m\n\u001b[1;32m    827\u001b[0m     \u001b[0;32mdef\u001b[0m \u001b[0m_train\u001b[0m\u001b[0;34m(\u001b[0m\u001b[0mself\u001b[0m\u001b[0;34m,\u001b[0m \u001b[0mtrain_pool\u001b[0m\u001b[0;34m,\u001b[0m \u001b[0mtest_pool\u001b[0m\u001b[0;34m,\u001b[0m \u001b[0mparams\u001b[0m\u001b[0;34m,\u001b[0m \u001b[0mallow_clear_pool\u001b[0m\u001b[0;34m)\u001b[0m\u001b[0;34m:\u001b[0m\u001b[0;34m\u001b[0m\u001b[0;34m\u001b[0m\u001b[0m\n\u001b[0;32m--> 828\u001b[0;31m         \u001b[0mself\u001b[0m\u001b[0;34m.\u001b[0m\u001b[0m_object\u001b[0m\u001b[0;34m.\u001b[0m\u001b[0m_train\u001b[0m\u001b[0;34m(\u001b[0m\u001b[0mtrain_pool\u001b[0m\u001b[0;34m,\u001b[0m \u001b[0mtest_pool\u001b[0m\u001b[0;34m,\u001b[0m \u001b[0mparams\u001b[0m\u001b[0;34m,\u001b[0m \u001b[0mallow_clear_pool\u001b[0m\u001b[0;34m)\u001b[0m\u001b[0;34m\u001b[0m\u001b[0;34m\u001b[0m\u001b[0m\n\u001b[0m\u001b[1;32m    829\u001b[0m         \u001b[0mself\u001b[0m\u001b[0;34m.\u001b[0m\u001b[0m_set_trained_model_attributes\u001b[0m\u001b[0;34m(\u001b[0m\u001b[0;34m)\u001b[0m\u001b[0;34m\u001b[0m\u001b[0;34m\u001b[0m\u001b[0m\n\u001b[1;32m    830\u001b[0m \u001b[0;34m\u001b[0m\u001b[0m\n",
      "\u001b[0;32m_catboost.pyx\u001b[0m in \u001b[0;36m_catboost._CatBoost._train\u001b[0;34m()\u001b[0m\n",
      "\u001b[0;32m_catboost.pyx\u001b[0m in \u001b[0;36m_catboost._CatBoost._train\u001b[0;34m()\u001b[0m\n",
      "\u001b[0;31mKeyboardInterrupt\u001b[0m: "
     ]
    }
   ],
   "source": [
    "# #Without Categorical features\n",
    "# params = {'depth': [4, 7, 10],\n",
    "#           'learning_rate' : [0.03, 0.1, 0.15],\n",
    "#          'l2_leaf_reg': [1,4,9],\n",
    "#          'iterations': [300]}\n",
    "# cb = CatBoostClassifier()\n",
    "# cb_model = GridSearchCV(cb, params, scoring=\"roc_auc\", cv = 3)\n",
    "# cb_model.fit(X_train, y_train)\n",
    "\n",
    "#With Categorical features\n",
    "clf = CatBoostClassifier(eval_metric=\"AUC\", depth=10, iterations= 500, l2_leaf_reg= 9, learning_rate= 0.15)\n",
    "clf.fit(X_train,y_train, cat_features= categorical_features_indices)\n",
    "auc(clf, X_train, X_test)\n",
    "\n"
   ]
  },
  {
   "cell_type": "code",
   "execution_count": null,
   "metadata": {},
   "outputs": [],
   "source": [
    "clf.feature_importances_"
   ]
  },
  {
   "cell_type": "code",
   "execution_count": 16,
   "metadata": {},
   "outputs": [],
   "source": [
    "feature_list = list(X.columns)"
   ]
  },
  {
   "cell_type": "code",
   "execution_count": 18,
   "metadata": {},
   "outputs": [
    {
     "data": {
      "text/plain": [
       "['intake_type',\n",
       " 'intake_condition',\n",
       " 'sex_fixed_intake',\n",
       " 'intake_month_name',\n",
       " 'weekday_intake',\n",
       " 'intake_temp',\n",
       " 'intake_precip',\n",
       " 'real_age_intake_days',\n",
       " 'cat_or_kitten',\n",
       " 'breed_type',\n",
       " 'intakes_last_week']"
      ]
     },
     "execution_count": 18,
     "metadata": {},
     "output_type": "execute_result"
    }
   ],
   "source": [
    "feature_list"
   ]
  },
  {
   "cell_type": "code",
   "execution_count": 17,
   "metadata": {},
   "outputs": [
    {
     "ename": "CatboostError",
     "evalue": "There is no trained model to use `feature_importances_`. Use fit() to train model. Then use `feature_importances_`.",
     "output_type": "error",
     "traceback": [
      "\u001b[0;31m---------------------------------------------------------------------------\u001b[0m",
      "\u001b[0;31mCatboostError\u001b[0m                             Traceback (most recent call last)",
      "\u001b[0;32m<ipython-input-17-8fe63a6cbe7b>\u001b[0m in \u001b[0;36m<module>\u001b[0;34m\u001b[0m\n\u001b[0;32m----> 1\u001b[0;31m \u001b[0mimportances\u001b[0m \u001b[0;34m=\u001b[0m \u001b[0mlist\u001b[0m\u001b[0;34m(\u001b[0m\u001b[0mclf\u001b[0m\u001b[0;34m.\u001b[0m\u001b[0mfeature_importances_\u001b[0m\u001b[0;34m)\u001b[0m\u001b[0;34m\u001b[0m\u001b[0;34m\u001b[0m\u001b[0m\n\u001b[0m",
      "\u001b[0;32m/anaconda3/lib/python3.6/site-packages/catboost/core.py\u001b[0m in \u001b[0;36mfeature_importances_\u001b[0;34m(self)\u001b[0m\n\u001b[1;32m   1472\u001b[0m         \u001b[0mfeature_importances_\u001b[0m \u001b[0;34m=\u001b[0m \u001b[0mgetattr\u001b[0m\u001b[0;34m(\u001b[0m\u001b[0mself\u001b[0m\u001b[0;34m,\u001b[0m \u001b[0;34m\"_feature_importance\"\u001b[0m\u001b[0;34m,\u001b[0m \u001b[0;32mNone\u001b[0m\u001b[0;34m)\u001b[0m\u001b[0;34m\u001b[0m\u001b[0;34m\u001b[0m\u001b[0m\n\u001b[1;32m   1473\u001b[0m         \u001b[0;32mif\u001b[0m \u001b[0;32mnot\u001b[0m \u001b[0mself\u001b[0m\u001b[0;34m.\u001b[0m\u001b[0mis_fitted\u001b[0m\u001b[0;34m(\u001b[0m\u001b[0;34m)\u001b[0m\u001b[0;34m:\u001b[0m\u001b[0;34m\u001b[0m\u001b[0;34m\u001b[0m\u001b[0m\n\u001b[0;32m-> 1474\u001b[0;31m             \u001b[0;32mraise\u001b[0m \u001b[0mCatboostError\u001b[0m\u001b[0;34m(\u001b[0m\u001b[0;34m\"There is no trained model to use `feature_importances_`. Use fit() to train model. Then use `feature_importances_`.\"\u001b[0m\u001b[0;34m)\u001b[0m\u001b[0;34m\u001b[0m\u001b[0;34m\u001b[0m\u001b[0m\n\u001b[0m\u001b[1;32m   1475\u001b[0m         \u001b[0;32mreturn\u001b[0m \u001b[0mnp\u001b[0m\u001b[0;34m.\u001b[0m\u001b[0marray\u001b[0m\u001b[0;34m(\u001b[0m\u001b[0mfeature_importances_\u001b[0m\u001b[0;34m)\u001b[0m\u001b[0;34m\u001b[0m\u001b[0;34m\u001b[0m\u001b[0m\n\u001b[1;32m   1476\u001b[0m \u001b[0;34m\u001b[0m\u001b[0m\n",
      "\u001b[0;31mCatboostError\u001b[0m: There is no trained model to use `feature_importances_`. Use fit() to train model. Then use `feature_importances_`."
     ]
    }
   ],
   "source": [
    "importances = list(clf.feature_importances_)"
   ]
  },
  {
   "cell_type": "code",
   "execution_count": null,
   "metadata": {},
   "outputs": [],
   "source": [
    "cb_feature_importances = [(feature, round(importance, 2)) for feature, importance in zip(feature_list, importances)]"
   ]
  },
  {
   "cell_type": "code",
   "execution_count": null,
   "metadata": {},
   "outputs": [],
   "source": [
    "cb_feature_importances"
   ]
  },
  {
   "cell_type": "code",
   "execution_count": null,
   "metadata": {},
   "outputs": [],
   "source": [
    "feature_imp_df = pd.DataFrame(data=cb_feature_importances)"
   ]
  },
  {
   "cell_type": "code",
   "execution_count": null,
   "metadata": {},
   "outputs": [],
   "source": [
    "feature_imp_df.rename(columns={0: 'Feature', 1: 'Importance'}, inplace=True)\n",
    "feature_imp_df"
   ]
  },
  {
   "cell_type": "code",
   "execution_count": null,
   "metadata": {},
   "outputs": [],
   "source": [
    "feature_imp_df['Feature'] = feature_imp_df['Feature'].str.replace('_',' ')\n",
    "\n",
    "feature_imp_df"
   ]
  },
  {
   "cell_type": "code",
   "execution_count": null,
   "metadata": {},
   "outputs": [],
   "source": [
    "feature_imp_df['Feature'] = feature_imp_df['Feature'].str.title()\n",
    "feature_imp_df['Feature'] = feature_imp_df['Feature'].str.replace(' Or ',' or ')\n",
    "feature_imp_df['Feature'] = feature_imp_df['Feature'].str.replace('Real Age Intake Days','Age in Days')\n",
    "feature_imp_df"
   ]
  },
  {
   "cell_type": "code",
   "execution_count": null,
   "metadata": {},
   "outputs": [],
   "source": [
    "feature_imp_df = feature_imp_df.sort_values(by=['Importance'])\n",
    "feature_imp_df"
   ]
  },
  {
   "cell_type": "code",
   "execution_count": null,
   "metadata": {},
   "outputs": [],
   "source": [
    "sns.barplot(x='Importance', y='Feature', data=feature_imp_df, palette=\"ch:2.5,-.2,dark=.3\").set_title('CatBoost Feature Importance')"
   ]
  },
  {
   "cell_type": "code",
   "execution_count": null,
   "metadata": {},
   "outputs": [],
   "source": [
    "outcome_totals = sns.countplot(x='outcome_type_Transfer', data=df_X, palette=\"ch:2.5,-.2,dark=.3\").set_title('Cat Outcomes, 2013-now');\n",
    "plt.xlabel(\"Outcome Type\")\n",
    "plt.ylabel(\"Count\")\n",
    "labels = ['Adoption', 'Transfer']\n",
    "plt.xticks(df_X['outcome_type_Transfer'], labels)\n",
    "\n"
   ]
  },
  {
   "cell_type": "code",
   "execution_count": null,
   "metadata": {},
   "outputs": [],
   "source": [
    "def make_confusion_matrix(model, threshold=0.5):\n",
    "   # Predict class 1 if probability of being in class 1 is greater than threshold\n",
    "   # (model.predict(X_test) does this automatically with a threshold of 0.5)\n",
    "    y_predict = (model.predict_proba(X_test)[:, 1] >= threshold)\n",
    "    cmap = sns.cubehelix_palette(8, start=2, rot=0, dark=0, light=.95, reverse=False)\n",
    "    transfer_confusion = metrics.confusion_matrix(y_test, y_predict)\n",
    "    plt.figure(dpi=80)\n",
    "    sns.heatmap(transfer_confusion, cmap=cmap, annot=True, square=True, fmt='d',\n",
    "        xticklabels=['Adoption', 'Transfer'],\n",
    "        yticklabels=['Adoption', 'Transfer']);\n",
    "    plt.xlabel('Prediction')\n",
    "    plt.ylabel('Actual')"
   ]
  },
  {
   "cell_type": "code",
   "execution_count": null,
   "metadata": {
    "scrolled": false
   },
   "outputs": [],
   "source": [
    "make_confusion_matrix(clf, threshold=0.5)"
   ]
  },
  {
   "cell_type": "code",
   "execution_count": null,
   "metadata": {},
   "outputs": [],
   "source": [
    "make_confusion_matrix(clf, threshold=0.6)"
   ]
  },
  {
   "cell_type": "code",
   "execution_count": null,
   "metadata": {},
   "outputs": [],
   "source": []
  },
  {
   "cell_type": "code",
   "execution_count": null,
   "metadata": {},
   "outputs": [],
   "source": [
    "# f1_catboost_test = f1(clf, X_train, X_test)\n",
    "# accuracy_catboost_test = acc(clf, X_train, X_test)\n",
    "# precision_catboost_test = prec(clf, X_train, X_test)\n",
    "# recall_catboost_test = recall(clf, X_train, X_test)\n",
    "AUC_catboost_test = auc(clf, X_train, X_test)\n",
    "\n"
   ]
  },
  {
   "cell_type": "code",
   "execution_count": null,
   "metadata": {},
   "outputs": [],
   "source": [
    "AUC_catboost_test"
   ]
  },
  {
   "cell_type": "code",
   "execution_count": null,
   "metadata": {},
   "outputs": [],
   "source": [
    "f1_clf_test = f1_score(y_test, clf.predict(X_test))\n",
    "accuracy_clf_test = accuracy_score(y_test, clf.predict(X_test))\n",
    "precision_clf_test = precision_score(y_test, clf.predict(X_test))\n",
    "recall_clf_test = recall_score(y_test, clf.predict(X_test))\n",
    "AUC_clf_test = roc_auc_score(y_test, clf.predict_proba(X_test)[:,1])\n",
    "\n",
    "print(f'F1 test score is {f1_clf_test}')\n",
    "print(f'Accuracy test score is {accuracy_clf_test}')\n",
    "print(f'precision test score is {precision_clf_test}')\n",
    "print(f'recall test score is {recall_clf_test}')\n",
    "print(f'AUC test score is {AUC_clf_test}')"
   ]
  },
  {
   "cell_type": "code",
   "execution_count": null,
   "metadata": {},
   "outputs": [],
   "source": [
    "clf_withplot = CatBoostClassifier(eval_metric=\"AUC\", depth=10, iterations= 500, l2_leaf_reg= 9)\n",
    "clf_withplot.fit(X_train, y_train, cat_features= categorical_features_indices, plot=True)\n",
    "auc(clf, X_train, X_test)"
   ]
  },
  {
   "cell_type": "markdown",
   "metadata": {},
   "source": [
    "Below attempting to plot confusion matrix"
   ]
  },
  {
   "cell_type": "code",
   "execution_count": null,
   "metadata": {},
   "outputs": [],
   "source": [
    "y_pred = clf.predict(X_test)\n",
    "type(y_pred)"
   ]
  },
  {
   "cell_type": "code",
   "execution_count": null,
   "metadata": {},
   "outputs": [],
   "source": [
    "conf_matrix = metrics.confusion_matrix(y_test, y_pred)\n",
    "conf_matrix"
   ]
  },
  {
   "cell_type": "code",
   "execution_count": null,
   "metadata": {},
   "outputs": [],
   "source": [
    "with open('/Users/robertpagano/src/metis_project_mcnulty/final_model/catboost_model_v1.pkl', 'wb') as to_write:\n",
    "    pickle.dump(clf, to_write)"
   ]
  },
  {
   "cell_type": "code",
   "execution_count": null,
   "metadata": {},
   "outputs": [],
   "source": [
    "%config InlineBackend.figure_format = 'svg'"
   ]
  },
  {
   "cell_type": "code",
   "execution_count": null,
   "metadata": {},
   "outputs": [],
   "source": [
    "# calculate the fpr and tpr for all thresholds of the classification\n",
    "probs = clf.predict_proba(X_test)\n",
    "preds = probs[:,1]\n",
    "fpr, tpr, threshold = metrics.roc_curve(y_test, preds)\n",
    "roc_auc = metrics.auc(fpr, tpr)\n",
    "\n",
    "# method I: plt\n",
    "import matplotlib.pyplot as plt\n",
    "plt.title('ROC Curve for CatBoost')\n",
    "plt.plot(fpr, tpr, 'b', label = 'AUC = %0.2f' % roc_auc)\n",
    "plt.legend(loc = 'lower right')\n",
    "plt.plot([0, 1], [0, 1],'r--')\n",
    "plt.xlim([0, 1])\n",
    "plt.ylim([0, 1])\n",
    "plt.ylabel('True Positive Rate')\n",
    "plt.xlabel('False Positive Rate')\n",
    "plt.show()\n",
    "\n",
    "# # method II: ggplot\n",
    "# from ggplot import *\n",
    "# df = pd.DataFrame(dict(fpr = fpr, tpr = tpr))\n",
    "# ggplot(df, aes(x = 'fpr', y = 'tpr')) + geom_line() + geom_abline(linetype = 'dashed')"
   ]
  },
  {
   "cell_type": "code",
   "execution_count": null,
   "metadata": {},
   "outputs": [],
   "source": [
    "sns.countplot(x='')"
   ]
  }
 ],
 "metadata": {
  "kernelspec": {
   "display_name": "Python 3",
   "language": "python",
   "name": "python3"
  },
  "language_info": {
   "codemirror_mode": {
    "name": "ipython",
    "version": 3
   },
   "file_extension": ".py",
   "mimetype": "text/x-python",
   "name": "python",
   "nbconvert_exporter": "python",
   "pygments_lexer": "ipython3",
   "version": "3.6.7"
  }
 },
 "nbformat": 4,
 "nbformat_minor": 2
}
