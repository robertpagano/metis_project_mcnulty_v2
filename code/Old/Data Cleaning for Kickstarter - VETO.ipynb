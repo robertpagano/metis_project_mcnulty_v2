{
 "cells": [
  {
   "cell_type": "code",
   "execution_count": 4,
   "metadata": {},
   "outputs": [],
   "source": [
    "import pandas as pd\n",
    "import numpy as np\n",
    "import glob, os"
   ]
  },
  {
   "cell_type": "code",
   "execution_count": 5,
   "metadata": {},
   "outputs": [],
   "source": [
    "path =r'/Users/robertpagano/src/Project 3 RAW DATA/raw_csv_files' # use your path\n",
    "all_files = glob.glob(os.path.join(path, \"*.csv\"))\n",
    "\n",
    "list_ = []\n",
    "\n",
    "for file_ in all_files:\n",
    "    df = pd.read_csv(file_,index_col=None, header=0)\n",
    "    list_.append(df)\n",
    "\n",
    "\n",
    "df = pd.concat((pd.read_csv(f) for f in all_files))"
   ]
  },
  {
   "cell_type": "markdown",
   "metadata": {},
   "source": [
    "Note that if I come back to this, I can make a custom function to parse out the json data:\n",
    "https://stackoverflow.com/questions/20680272/parsing-a-json-string-which-was-loaded-from-a-csv-using-pandas"
   ]
  },
  {
   "cell_type": "code",
   "execution_count": 7,
   "metadata": {},
   "outputs": [
    {
     "data": {
      "text/plain": [
       "(100475, 37)"
      ]
     },
     "execution_count": 7,
     "metadata": {},
     "output_type": "execute_result"
    }
   ],
   "source": [
    "df.shape"
   ]
  },
  {
   "cell_type": "code",
   "execution_count": 8,
   "metadata": {},
   "outputs": [
    {
     "name": "stdout",
     "output_type": "stream",
     "text": [
      "<class 'pandas.core.frame.DataFrame'>\n",
      "Int64Index: 100475 entries, 0 to 1349\n",
      "Data columns (total 37 columns):\n",
      "backers_count               100475 non-null int64\n",
      "blurb                       100470 non-null object\n",
      "category                    100475 non-null object\n",
      "converted_pledged_amount    100475 non-null int64\n",
      "country                     100475 non-null object\n",
      "created_at                  100475 non-null int64\n",
      "creator                     100475 non-null object\n",
      "currency                    100475 non-null object\n",
      "currency_symbol             100475 non-null object\n",
      "currency_trailing_code      100475 non-null bool\n",
      "current_currency            100475 non-null object\n",
      "deadline                    100475 non-null int64\n",
      "disable_communication       100475 non-null bool\n",
      "friends                     104 non-null object\n",
      "fx_rate                     100475 non-null float64\n",
      "goal                        100475 non-null float64\n",
      "id                          100475 non-null int64\n",
      "is_backing                  104 non-null object\n",
      "is_starrable                100475 non-null bool\n",
      "is_starred                  104 non-null object\n",
      "launched_at                 100475 non-null int64\n",
      "location                    99833 non-null object\n",
      "name                        100474 non-null object\n",
      "permissions                 104 non-null object\n",
      "photo                       100475 non-null object\n",
      "pledged                     100475 non-null float64\n",
      "profile                     100475 non-null object\n",
      "slug                        100475 non-null object\n",
      "source_url                  100475 non-null object\n",
      "spotlight                   100475 non-null bool\n",
      "staff_pick                  100475 non-null bool\n",
      "state                       100475 non-null object\n",
      "state_changed_at            100475 non-null int64\n",
      "static_usd_rate             100475 non-null float64\n",
      "urls                        100475 non-null object\n",
      "usd_pledged                 100475 non-null float64\n",
      "usd_type                    100279 non-null object\n",
      "dtypes: bool(5), float64(5), int64(7), object(20)\n",
      "memory usage: 25.8+ MB\n"
     ]
    }
   ],
   "source": [
    "df.info()"
   ]
  },
  {
   "cell_type": "code",
   "execution_count": 15,
   "metadata": {},
   "outputs": [],
   "source": [
    "df['date_created'] = pd.to_datetime(df['created_at'], unit='s') # when project creator started work on project\n",
    "df['deadline_date'] = pd.to_datetime(df['deadline'], unit='s')\n",
    "df['launched_date'] = pd.to_datetime(df['launched_at'], unit='s') # when creator launched project, starts countdown for deadline"
   ]
  },
  {
   "cell_type": "code",
   "execution_count": 24,
   "metadata": {},
   "outputs": [],
   "source": [
    "import datetime"
   ]
  },
  {
   "cell_type": "code",
   "execution_count": 45,
   "metadata": {},
   "outputs": [],
   "source": [
    "df['time_to_launch'] = (df['launched_date'] - df['date_created']).dt.days # num days from creation to launch\n",
    "df['day_limit'] = (df['deadline_date'] - df['launched_date']).dt.days # num days from launch to deadline"
   ]
  },
  {
   "cell_type": "code",
   "execution_count": 46,
   "metadata": {},
   "outputs": [
    {
     "name": "stdout",
     "output_type": "stream",
     "text": [
      "<class 'pandas.core.frame.DataFrame'>\n",
      "Int64Index: 100475 entries, 0 to 1349\n",
      "Data columns (total 42 columns):\n",
      "backers_count               100475 non-null int64\n",
      "blurb                       100470 non-null object\n",
      "category                    100475 non-null object\n",
      "converted_pledged_amount    100475 non-null int64\n",
      "country                     100475 non-null object\n",
      "created_at                  100475 non-null int64\n",
      "creator                     100475 non-null object\n",
      "currency                    100475 non-null object\n",
      "currency_symbol             100475 non-null object\n",
      "currency_trailing_code      100475 non-null bool\n",
      "current_currency            100475 non-null object\n",
      "deadline                    100475 non-null int64\n",
      "disable_communication       100475 non-null bool\n",
      "friends                     104 non-null object\n",
      "fx_rate                     100475 non-null float64\n",
      "goal                        100475 non-null float64\n",
      "id                          100475 non-null int64\n",
      "is_backing                  104 non-null object\n",
      "is_starrable                100475 non-null bool\n",
      "is_starred                  104 non-null object\n",
      "launched_at                 100475 non-null int64\n",
      "location                    99833 non-null object\n",
      "name                        100474 non-null object\n",
      "permissions                 104 non-null object\n",
      "photo                       100475 non-null object\n",
      "pledged                     100475 non-null float64\n",
      "profile                     100475 non-null object\n",
      "slug                        100475 non-null object\n",
      "source_url                  100475 non-null object\n",
      "spotlight                   100475 non-null bool\n",
      "staff_pick                  100475 non-null bool\n",
      "state                       100475 non-null object\n",
      "state_changed_at            100475 non-null int64\n",
      "static_usd_rate             100475 non-null float64\n",
      "urls                        100475 non-null object\n",
      "usd_pledged                 100475 non-null float64\n",
      "usd_type                    100279 non-null object\n",
      "date_created                100475 non-null datetime64[ns]\n",
      "deadline_date               100475 non-null datetime64[ns]\n",
      "launched_date               100475 non-null datetime64[ns]\n",
      "time_to_launch              100475 non-null int64\n",
      "day_limit                   100475 non-null int64\n",
      "dtypes: bool(5), datetime64[ns](3), float64(5), int64(9), object(20)\n",
      "memory usage: 29.6+ MB\n"
     ]
    }
   ],
   "source": [
    "df.info()"
   ]
  },
  {
   "cell_type": "code",
   "execution_count": 47,
   "metadata": {
    "scrolled": true
   },
   "outputs": [
    {
     "data": {
      "text/html": [
       "<div>\n",
       "<style scoped>\n",
       "    .dataframe tbody tr th:only-of-type {\n",
       "        vertical-align: middle;\n",
       "    }\n",
       "\n",
       "    .dataframe tbody tr th {\n",
       "        vertical-align: top;\n",
       "    }\n",
       "\n",
       "    .dataframe thead th {\n",
       "        text-align: right;\n",
       "    }\n",
       "</style>\n",
       "<table border=\"1\" class=\"dataframe\">\n",
       "  <thead>\n",
       "    <tr style=\"text-align: right;\">\n",
       "      <th></th>\n",
       "      <th>backers_count</th>\n",
       "      <th>blurb</th>\n",
       "      <th>category</th>\n",
       "      <th>converted_pledged_amount</th>\n",
       "      <th>country</th>\n",
       "      <th>created_at</th>\n",
       "      <th>creator</th>\n",
       "      <th>currency</th>\n",
       "      <th>currency_symbol</th>\n",
       "      <th>currency_trailing_code</th>\n",
       "      <th>...</th>\n",
       "      <th>state_changed_at</th>\n",
       "      <th>static_usd_rate</th>\n",
       "      <th>urls</th>\n",
       "      <th>usd_pledged</th>\n",
       "      <th>usd_type</th>\n",
       "      <th>date_created</th>\n",
       "      <th>deadline_date</th>\n",
       "      <th>launched_date</th>\n",
       "      <th>time_to_launch</th>\n",
       "      <th>day_limit</th>\n",
       "    </tr>\n",
       "  </thead>\n",
       "  <tbody>\n",
       "    <tr>\n",
       "      <th>2708</th>\n",
       "      <td>148</td>\n",
       "      <td>We're making a new record -- independently! We...</td>\n",
       "      <td>{\"id\":43,\"name\":\"Rock\",\"slug\":\"music/rock\",\"po...</td>\n",
       "      <td>8349</td>\n",
       "      <td>US</td>\n",
       "      <td>1354762461</td>\n",
       "      <td>{\"id\":1120931949,\"name\":\"The Floorwalkers\",\"is...</td>\n",
       "      <td>USD</td>\n",
       "      <td>$</td>\n",
       "      <td>True</td>\n",
       "      <td>...</td>\n",
       "      <td>1367867536</td>\n",
       "      <td>1.000000</td>\n",
       "      <td>{\"web\":{\"project\":\"https://www.kickstarter.com...</td>\n",
       "      <td>8349.000000</td>\n",
       "      <td>international</td>\n",
       "      <td>2012-12-06 02:54:21</td>\n",
       "      <td>2013-05-06 19:12:16</td>\n",
       "      <td>2013-04-06 19:12:16</td>\n",
       "      <td>121</td>\n",
       "      <td>30</td>\n",
       "    </tr>\n",
       "    <tr>\n",
       "      <th>1076</th>\n",
       "      <td>13</td>\n",
       "      <td>A magic wand won't shrink your utility bills b...</td>\n",
       "      <td>{\"id\":52,\"name\":\"Hardware\",\"slug\":\"technology/...</td>\n",
       "      <td>592</td>\n",
       "      <td>GB</td>\n",
       "      <td>1381416660</td>\n",
       "      <td>{\"id\":457452823,\"name\":\"Alex Gardiner\",\"is_reg...</td>\n",
       "      <td>GBP</td>\n",
       "      <td>£</td>\n",
       "      <td>False</td>\n",
       "      <td>...</td>\n",
       "      <td>1400713210</td>\n",
       "      <td>1.679394</td>\n",
       "      <td>{\"web\":{\"project\":\"https://www.kickstarter.com...</td>\n",
       "      <td>591.146572</td>\n",
       "      <td>domestic</td>\n",
       "      <td>2013-10-10 14:51:00</td>\n",
       "      <td>2014-05-21 23:00:00</td>\n",
       "      <td>2014-04-22 10:38:06</td>\n",
       "      <td>193</td>\n",
       "      <td>29</td>\n",
       "    </tr>\n",
       "    <tr>\n",
       "      <th>575</th>\n",
       "      <td>0</td>\n",
       "      <td>Le Chat L'heureux est un projet de bar-à-chats...</td>\n",
       "      <td>{\"id\":312,\"name\":\"Restaurants\",\"slug\":\"food/re...</td>\n",
       "      <td>0</td>\n",
       "      <td>FR</td>\n",
       "      <td>1449338293</td>\n",
       "      <td>{\"id\":1468814329,\"name\":\"Dumont Cédric\",\"is_re...</td>\n",
       "      <td>EUR</td>\n",
       "      <td>€</td>\n",
       "      <td>False</td>\n",
       "      <td>...</td>\n",
       "      <td>1451936904</td>\n",
       "      <td>1.092968</td>\n",
       "      <td>{\"web\":{\"project\":\"https://www.kickstarter.com...</td>\n",
       "      <td>0.000000</td>\n",
       "      <td>domestic</td>\n",
       "      <td>2015-12-05 17:58:13</td>\n",
       "      <td>2016-01-04 19:48:23</td>\n",
       "      <td>2015-12-05 19:48:23</td>\n",
       "      <td>0</td>\n",
       "      <td>30</td>\n",
       "    </tr>\n",
       "    <tr>\n",
       "      <th>3099</th>\n",
       "      <td>59</td>\n",
       "      <td>Secrets sewn.\\nSet during the Great Depression...</td>\n",
       "      <td>{\"id\":31,\"name\":\"Narrative Film\",\"slug\":\"film ...</td>\n",
       "      <td>21054</td>\n",
       "      <td>US</td>\n",
       "      <td>1331252689</td>\n",
       "      <td>{\"id\":1037495949,\"name\":\"christine\",\"slug\":\"pp...</td>\n",
       "      <td>USD</td>\n",
       "      <td>$</td>\n",
       "      <td>True</td>\n",
       "      <td>...</td>\n",
       "      <td>1337533800</td>\n",
       "      <td>1.000000</td>\n",
       "      <td>{\"web\":{\"project\":\"https://www.kickstarter.com...</td>\n",
       "      <td>21054.000000</td>\n",
       "      <td>international</td>\n",
       "      <td>2012-03-09 00:24:49</td>\n",
       "      <td>2012-05-20 17:10:00</td>\n",
       "      <td>2012-04-20 17:10:00</td>\n",
       "      <td>42</td>\n",
       "      <td>30</td>\n",
       "    </tr>\n",
       "    <tr>\n",
       "      <th>462</th>\n",
       "      <td>91</td>\n",
       "      <td>A Little Luck can go a Wrong WAY! http://www.e...</td>\n",
       "      <td>{\"id\":32,\"name\":\"Shorts\",\"slug\":\"film &amp; video/...</td>\n",
       "      <td>15015</td>\n",
       "      <td>US</td>\n",
       "      <td>1296088669</td>\n",
       "      <td>{\"id\":1361052734,\"name\":\"Christopher C. Brown\"...</td>\n",
       "      <td>USD</td>\n",
       "      <td>$</td>\n",
       "      <td>True</td>\n",
       "      <td>...</td>\n",
       "      <td>1301937627</td>\n",
       "      <td>1.000000</td>\n",
       "      <td>{\"web\":{\"project\":\"https://www.kickstarter.com...</td>\n",
       "      <td>15015.000000</td>\n",
       "      <td>international</td>\n",
       "      <td>2011-01-27 00:37:49</td>\n",
       "      <td>2011-04-04 17:20:27</td>\n",
       "      <td>2011-02-01 18:20:27</td>\n",
       "      <td>5</td>\n",
       "      <td>61</td>\n",
       "    </tr>\n",
       "  </tbody>\n",
       "</table>\n",
       "<p>5 rows × 42 columns</p>\n",
       "</div>"
      ],
      "text/plain": [
       "      backers_count                                              blurb  \\\n",
       "2708            148  We're making a new record -- independently! We...   \n",
       "1076             13  A magic wand won't shrink your utility bills b...   \n",
       "575               0  Le Chat L'heureux est un projet de bar-à-chats...   \n",
       "3099             59  Secrets sewn.\\nSet during the Great Depression...   \n",
       "462              91  A Little Luck can go a Wrong WAY! http://www.e...   \n",
       "\n",
       "                                               category  \\\n",
       "2708  {\"id\":43,\"name\":\"Rock\",\"slug\":\"music/rock\",\"po...   \n",
       "1076  {\"id\":52,\"name\":\"Hardware\",\"slug\":\"technology/...   \n",
       "575   {\"id\":312,\"name\":\"Restaurants\",\"slug\":\"food/re...   \n",
       "3099  {\"id\":31,\"name\":\"Narrative Film\",\"slug\":\"film ...   \n",
       "462   {\"id\":32,\"name\":\"Shorts\",\"slug\":\"film & video/...   \n",
       "\n",
       "      converted_pledged_amount country  created_at  \\\n",
       "2708                      8349      US  1354762461   \n",
       "1076                       592      GB  1381416660   \n",
       "575                          0      FR  1449338293   \n",
       "3099                     21054      US  1331252689   \n",
       "462                      15015      US  1296088669   \n",
       "\n",
       "                                                creator currency  \\\n",
       "2708  {\"id\":1120931949,\"name\":\"The Floorwalkers\",\"is...      USD   \n",
       "1076  {\"id\":457452823,\"name\":\"Alex Gardiner\",\"is_reg...      GBP   \n",
       "575   {\"id\":1468814329,\"name\":\"Dumont Cédric\",\"is_re...      EUR   \n",
       "3099  {\"id\":1037495949,\"name\":\"christine\",\"slug\":\"pp...      USD   \n",
       "462   {\"id\":1361052734,\"name\":\"Christopher C. Brown\"...      USD   \n",
       "\n",
       "     currency_symbol  currency_trailing_code    ...    state_changed_at  \\\n",
       "2708               $                    True    ...          1367867536   \n",
       "1076               £                   False    ...          1400713210   \n",
       "575                €                   False    ...          1451936904   \n",
       "3099               $                    True    ...          1337533800   \n",
       "462                $                    True    ...          1301937627   \n",
       "\n",
       "      static_usd_rate                                               urls  \\\n",
       "2708         1.000000  {\"web\":{\"project\":\"https://www.kickstarter.com...   \n",
       "1076         1.679394  {\"web\":{\"project\":\"https://www.kickstarter.com...   \n",
       "575          1.092968  {\"web\":{\"project\":\"https://www.kickstarter.com...   \n",
       "3099         1.000000  {\"web\":{\"project\":\"https://www.kickstarter.com...   \n",
       "462          1.000000  {\"web\":{\"project\":\"https://www.kickstarter.com...   \n",
       "\n",
       "       usd_pledged       usd_type        date_created       deadline_date  \\\n",
       "2708   8349.000000  international 2012-12-06 02:54:21 2013-05-06 19:12:16   \n",
       "1076    591.146572       domestic 2013-10-10 14:51:00 2014-05-21 23:00:00   \n",
       "575       0.000000       domestic 2015-12-05 17:58:13 2016-01-04 19:48:23   \n",
       "3099  21054.000000  international 2012-03-09 00:24:49 2012-05-20 17:10:00   \n",
       "462   15015.000000  international 2011-01-27 00:37:49 2011-04-04 17:20:27   \n",
       "\n",
       "           launched_date  time_to_launch day_limit  \n",
       "2708 2013-04-06 19:12:16             121        30  \n",
       "1076 2014-04-22 10:38:06             193        29  \n",
       "575  2015-12-05 19:48:23               0        30  \n",
       "3099 2012-04-20 17:10:00              42        30  \n",
       "462  2011-02-01 18:20:27               5        61  \n",
       "\n",
       "[5 rows x 42 columns]"
      ]
     },
     "execution_count": 47,
     "metadata": {},
     "output_type": "execute_result"
    }
   ],
   "source": [
    "df.sample(5)"
   ]
  },
  {
   "cell_type": "code",
   "execution_count": 62,
   "metadata": {},
   "outputs": [],
   "source": [
    "df['project_name_length']  = df['name'].str.split().str.len() # length of project name in words\n",
    "df['blurb_length']  = df['blurb'].str.split().str.len() # length of blurb in words\n"
   ]
  },
  {
   "cell_type": "code",
   "execution_count": 63,
   "metadata": {},
   "outputs": [
    {
     "data": {
      "text/html": [
       "<div>\n",
       "<style scoped>\n",
       "    .dataframe tbody tr th:only-of-type {\n",
       "        vertical-align: middle;\n",
       "    }\n",
       "\n",
       "    .dataframe tbody tr th {\n",
       "        vertical-align: top;\n",
       "    }\n",
       "\n",
       "    .dataframe thead th {\n",
       "        text-align: right;\n",
       "    }\n",
       "</style>\n",
       "<table border=\"1\" class=\"dataframe\">\n",
       "  <thead>\n",
       "    <tr style=\"text-align: right;\">\n",
       "      <th></th>\n",
       "      <th>backers_count</th>\n",
       "      <th>blurb</th>\n",
       "      <th>category</th>\n",
       "      <th>converted_pledged_amount</th>\n",
       "      <th>country</th>\n",
       "      <th>created_at</th>\n",
       "      <th>creator</th>\n",
       "      <th>currency</th>\n",
       "      <th>currency_symbol</th>\n",
       "      <th>currency_trailing_code</th>\n",
       "      <th>...</th>\n",
       "      <th>urls</th>\n",
       "      <th>usd_pledged</th>\n",
       "      <th>usd_type</th>\n",
       "      <th>date_created</th>\n",
       "      <th>deadline_date</th>\n",
       "      <th>launched_date</th>\n",
       "      <th>time_to_launch</th>\n",
       "      <th>day_limit</th>\n",
       "      <th>project_name_length</th>\n",
       "      <th>blurb_length</th>\n",
       "    </tr>\n",
       "  </thead>\n",
       "  <tbody>\n",
       "    <tr>\n",
       "      <th>0</th>\n",
       "      <td>4</td>\n",
       "      <td>Help a small, licensed home bakery grow!</td>\n",
       "      <td>{\"id\":313,\"name\":\"Small Batch\",\"slug\":\"food/sm...</td>\n",
       "      <td>420</td>\n",
       "      <td>US</td>\n",
       "      <td>1424393180</td>\n",
       "      <td>{\"id\":593249816,\"name\":\"Natty B's Bakery\",\"slu...</td>\n",
       "      <td>USD</td>\n",
       "      <td>$</td>\n",
       "      <td>True</td>\n",
       "      <td>...</td>\n",
       "      <td>{\"web\":{\"project\":\"https://www.kickstarter.com...</td>\n",
       "      <td>420.000000</td>\n",
       "      <td>international</td>\n",
       "      <td>2015-02-20 00:46:20</td>\n",
       "      <td>2015-04-10 06:59:00</td>\n",
       "      <td>2015-02-20 17:14:10</td>\n",
       "      <td>0</td>\n",
       "      <td>48</td>\n",
       "      <td>6.0</td>\n",
       "      <td>7.0</td>\n",
       "    </tr>\n",
       "    <tr>\n",
       "      <th>1</th>\n",
       "      <td>148</td>\n",
       "      <td>The Unseen: An Atlas of Infrared Plates is a p...</td>\n",
       "      <td>{\"id\":280,\"name\":\"Photobooks\",\"slug\":\"photogra...</td>\n",
       "      <td>9663</td>\n",
       "      <td>GB</td>\n",
       "      <td>1459511601</td>\n",
       "      <td>{\"id\":1092524383,\"name\":\"Edward Thompson\",\"is_...</td>\n",
       "      <td>GBP</td>\n",
       "      <td>£</td>\n",
       "      <td>False</td>\n",
       "      <td>...</td>\n",
       "      <td>{\"web\":{\"project\":\"https://www.kickstarter.com...</td>\n",
       "      <td>9590.455319</td>\n",
       "      <td>international</td>\n",
       "      <td>2016-04-01 11:53:21</td>\n",
       "      <td>2016-05-31 10:18:24</td>\n",
       "      <td>2016-04-28 10:18:24</td>\n",
       "      <td>26</td>\n",
       "      <td>33</td>\n",
       "      <td>7.0</td>\n",
       "      <td>24.0</td>\n",
       "    </tr>\n",
       "    <tr>\n",
       "      <th>2</th>\n",
       "      <td>1</td>\n",
       "      <td>Fine Wall Mounted Furnishings Crafted From Sla...</td>\n",
       "      <td>{\"id\":356,\"name\":\"Woodworking\",\"slug\":\"crafts/...</td>\n",
       "      <td>1</td>\n",
       "      <td>US</td>\n",
       "      <td>1535492228</td>\n",
       "      <td>{\"id\":271472395,\"name\":\"Tyler Jones\",\"is_regis...</td>\n",
       "      <td>USD</td>\n",
       "      <td>$</td>\n",
       "      <td>True</td>\n",
       "      <td>...</td>\n",
       "      <td>{\"web\":{\"project\":\"https://www.kickstarter.com...</td>\n",
       "      <td>1.000000</td>\n",
       "      <td>international</td>\n",
       "      <td>2018-08-28 21:37:08</td>\n",
       "      <td>2018-09-22 23:40:22</td>\n",
       "      <td>2018-08-28 23:40:22</td>\n",
       "      <td>0</td>\n",
       "      <td>25</td>\n",
       "      <td>7.0</td>\n",
       "      <td>19.0</td>\n",
       "    </tr>\n",
       "    <tr>\n",
       "      <th>3</th>\n",
       "      <td>77</td>\n",
       "      <td>We've written the songs, made the recordings a...</td>\n",
       "      <td>{\"id\":37,\"name\":\"Country &amp; Folk\",\"slug\":\"music...</td>\n",
       "      <td>4806</td>\n",
       "      <td>GB</td>\n",
       "      <td>1411314106</td>\n",
       "      <td>{\"id\":979672460,\"name\":\"Tracey Browne (deleted...</td>\n",
       "      <td>GBP</td>\n",
       "      <td>£</td>\n",
       "      <td>False</td>\n",
       "      <td>...</td>\n",
       "      <td>{\"web\":{\"project\":\"https://www.kickstarter.com...</td>\n",
       "      <td>4772.442559</td>\n",
       "      <td>domestic</td>\n",
       "      <td>2014-09-21 15:41:46</td>\n",
       "      <td>2014-11-05 19:30:00</td>\n",
       "      <td>2014-10-16 16:20:53</td>\n",
       "      <td>25</td>\n",
       "      <td>20</td>\n",
       "      <td>8.0</td>\n",
       "      <td>25.0</td>\n",
       "    </tr>\n",
       "    <tr>\n",
       "      <th>4</th>\n",
       "      <td>52</td>\n",
       "      <td>Luxurious polo shirts that utilize Japanese na...</td>\n",
       "      <td>{\"id\":341,\"name\":\"Wearables\",\"slug\":\"technolog...</td>\n",
       "      <td>6094</td>\n",
       "      <td>CA</td>\n",
       "      <td>1519389078</td>\n",
       "      <td>{\"id\":1241479417,\"name\":\"Progenomics LLC\",\"slu...</td>\n",
       "      <td>CAD</td>\n",
       "      <td>$</td>\n",
       "      <td>True</td>\n",
       "      <td>...</td>\n",
       "      <td>{\"web\":{\"project\":\"https://www.kickstarter.com...</td>\n",
       "      <td>6018.943243</td>\n",
       "      <td>domestic</td>\n",
       "      <td>2018-02-23 12:31:18</td>\n",
       "      <td>2018-04-23 13:40:36</td>\n",
       "      <td>2018-03-24 13:40:36</td>\n",
       "      <td>29</td>\n",
       "      <td>30</td>\n",
       "      <td>9.0</td>\n",
       "      <td>20.0</td>\n",
       "    </tr>\n",
       "  </tbody>\n",
       "</table>\n",
       "<p>5 rows × 44 columns</p>\n",
       "</div>"
      ],
      "text/plain": [
       "   backers_count                                              blurb  \\\n",
       "0              4           Help a small, licensed home bakery grow!   \n",
       "1            148  The Unseen: An Atlas of Infrared Plates is a p...   \n",
       "2              1  Fine Wall Mounted Furnishings Crafted From Sla...   \n",
       "3             77  We've written the songs, made the recordings a...   \n",
       "4             52  Luxurious polo shirts that utilize Japanese na...   \n",
       "\n",
       "                                            category  \\\n",
       "0  {\"id\":313,\"name\":\"Small Batch\",\"slug\":\"food/sm...   \n",
       "1  {\"id\":280,\"name\":\"Photobooks\",\"slug\":\"photogra...   \n",
       "2  {\"id\":356,\"name\":\"Woodworking\",\"slug\":\"crafts/...   \n",
       "3  {\"id\":37,\"name\":\"Country & Folk\",\"slug\":\"music...   \n",
       "4  {\"id\":341,\"name\":\"Wearables\",\"slug\":\"technolog...   \n",
       "\n",
       "   converted_pledged_amount country  created_at  \\\n",
       "0                       420      US  1424393180   \n",
       "1                      9663      GB  1459511601   \n",
       "2                         1      US  1535492228   \n",
       "3                      4806      GB  1411314106   \n",
       "4                      6094      CA  1519389078   \n",
       "\n",
       "                                             creator currency currency_symbol  \\\n",
       "0  {\"id\":593249816,\"name\":\"Natty B's Bakery\",\"slu...      USD               $   \n",
       "1  {\"id\":1092524383,\"name\":\"Edward Thompson\",\"is_...      GBP               £   \n",
       "2  {\"id\":271472395,\"name\":\"Tyler Jones\",\"is_regis...      USD               $   \n",
       "3  {\"id\":979672460,\"name\":\"Tracey Browne (deleted...      GBP               £   \n",
       "4  {\"id\":1241479417,\"name\":\"Progenomics LLC\",\"slu...      CAD               $   \n",
       "\n",
       "   currency_trailing_code     ...       \\\n",
       "0                    True     ...        \n",
       "1                   False     ...        \n",
       "2                    True     ...        \n",
       "3                   False     ...        \n",
       "4                    True     ...        \n",
       "\n",
       "                                                urls  usd_pledged  \\\n",
       "0  {\"web\":{\"project\":\"https://www.kickstarter.com...   420.000000   \n",
       "1  {\"web\":{\"project\":\"https://www.kickstarter.com...  9590.455319   \n",
       "2  {\"web\":{\"project\":\"https://www.kickstarter.com...     1.000000   \n",
       "3  {\"web\":{\"project\":\"https://www.kickstarter.com...  4772.442559   \n",
       "4  {\"web\":{\"project\":\"https://www.kickstarter.com...  6018.943243   \n",
       "\n",
       "        usd_type        date_created       deadline_date       launched_date  \\\n",
       "0  international 2015-02-20 00:46:20 2015-04-10 06:59:00 2015-02-20 17:14:10   \n",
       "1  international 2016-04-01 11:53:21 2016-05-31 10:18:24 2016-04-28 10:18:24   \n",
       "2  international 2018-08-28 21:37:08 2018-09-22 23:40:22 2018-08-28 23:40:22   \n",
       "3       domestic 2014-09-21 15:41:46 2014-11-05 19:30:00 2014-10-16 16:20:53   \n",
       "4       domestic 2018-02-23 12:31:18 2018-04-23 13:40:36 2018-03-24 13:40:36   \n",
       "\n",
       "   time_to_launch day_limit  project_name_length blurb_length  \n",
       "0               0        48                  6.0          7.0  \n",
       "1              26        33                  7.0         24.0  \n",
       "2               0        25                  7.0         19.0  \n",
       "3              25        20                  8.0         25.0  \n",
       "4              29        30                  9.0         20.0  \n",
       "\n",
       "[5 rows x 44 columns]"
      ]
     },
     "execution_count": 63,
     "metadata": {},
     "output_type": "execute_result"
    }
   ],
   "source": [
    "df.head()"
   ]
  },
  {
   "cell_type": "code",
   "execution_count": 65,
   "metadata": {},
   "outputs": [],
   "source": [
    "df_edas = df.loc[:, ['state', 'spotlight', 'staff_pick', 'project_name_length', 'blurb_length', 'time_to_launch', 'day_limit', 'date_created', 'country', 'goal', 'pledged']]"
   ]
  },
  {
   "cell_type": "code",
   "execution_count": 66,
   "metadata": {},
   "outputs": [
    {
     "data": {
      "text/html": [
       "<div>\n",
       "<style scoped>\n",
       "    .dataframe tbody tr th:only-of-type {\n",
       "        vertical-align: middle;\n",
       "    }\n",
       "\n",
       "    .dataframe tbody tr th {\n",
       "        vertical-align: top;\n",
       "    }\n",
       "\n",
       "    .dataframe thead th {\n",
       "        text-align: right;\n",
       "    }\n",
       "</style>\n",
       "<table border=\"1\" class=\"dataframe\">\n",
       "  <thead>\n",
       "    <tr style=\"text-align: right;\">\n",
       "      <th></th>\n",
       "      <th>state</th>\n",
       "      <th>spotlight</th>\n",
       "      <th>staff_pick</th>\n",
       "      <th>project_name_length</th>\n",
       "      <th>blurb_length</th>\n",
       "      <th>time_to_launch</th>\n",
       "      <th>day_limit</th>\n",
       "      <th>date_created</th>\n",
       "      <th>country</th>\n",
       "      <th>goal</th>\n",
       "      <th>pledged</th>\n",
       "    </tr>\n",
       "  </thead>\n",
       "  <tbody>\n",
       "    <tr>\n",
       "      <th>0</th>\n",
       "      <td>canceled</td>\n",
       "      <td>False</td>\n",
       "      <td>False</td>\n",
       "      <td>6.0</td>\n",
       "      <td>7.0</td>\n",
       "      <td>0</td>\n",
       "      <td>48</td>\n",
       "      <td>2015-02-20 00:46:20</td>\n",
       "      <td>US</td>\n",
       "      <td>6000.0</td>\n",
       "      <td>420.0</td>\n",
       "    </tr>\n",
       "    <tr>\n",
       "      <th>1</th>\n",
       "      <td>successful</td>\n",
       "      <td>True</td>\n",
       "      <td>True</td>\n",
       "      <td>7.0</td>\n",
       "      <td>24.0</td>\n",
       "      <td>26</td>\n",
       "      <td>33</td>\n",
       "      <td>2016-04-01 11:53:21</td>\n",
       "      <td>GB</td>\n",
       "      <td>5000.0</td>\n",
       "      <td>6577.0</td>\n",
       "    </tr>\n",
       "    <tr>\n",
       "      <th>2</th>\n",
       "      <td>failed</td>\n",
       "      <td>False</td>\n",
       "      <td>False</td>\n",
       "      <td>7.0</td>\n",
       "      <td>19.0</td>\n",
       "      <td>0</td>\n",
       "      <td>25</td>\n",
       "      <td>2018-08-28 21:37:08</td>\n",
       "      <td>US</td>\n",
       "      <td>2000.0</td>\n",
       "      <td>1.0</td>\n",
       "    </tr>\n",
       "    <tr>\n",
       "      <th>3</th>\n",
       "      <td>successful</td>\n",
       "      <td>True</td>\n",
       "      <td>False</td>\n",
       "      <td>8.0</td>\n",
       "      <td>25.0</td>\n",
       "      <td>25</td>\n",
       "      <td>20</td>\n",
       "      <td>2014-09-21 15:41:46</td>\n",
       "      <td>GB</td>\n",
       "      <td>2500.0</td>\n",
       "      <td>3002.0</td>\n",
       "    </tr>\n",
       "    <tr>\n",
       "      <th>4</th>\n",
       "      <td>successful</td>\n",
       "      <td>True</td>\n",
       "      <td>False</td>\n",
       "      <td>9.0</td>\n",
       "      <td>20.0</td>\n",
       "      <td>29</td>\n",
       "      <td>30</td>\n",
       "      <td>2018-02-23 12:31:18</td>\n",
       "      <td>CA</td>\n",
       "      <td>1000.0</td>\n",
       "      <td>7775.0</td>\n",
       "    </tr>\n",
       "  </tbody>\n",
       "</table>\n",
       "</div>"
      ],
      "text/plain": [
       "        state  spotlight  staff_pick  project_name_length  blurb_length  \\\n",
       "0    canceled      False       False                  6.0           7.0   \n",
       "1  successful       True        True                  7.0          24.0   \n",
       "2      failed      False       False                  7.0          19.0   \n",
       "3  successful       True       False                  8.0          25.0   \n",
       "4  successful       True       False                  9.0          20.0   \n",
       "\n",
       "   time_to_launch  day_limit        date_created country    goal  pledged  \n",
       "0               0         48 2015-02-20 00:46:20      US  6000.0    420.0  \n",
       "1              26         33 2016-04-01 11:53:21      GB  5000.0   6577.0  \n",
       "2               0         25 2018-08-28 21:37:08      US  2000.0      1.0  \n",
       "3              25         20 2014-09-21 15:41:46      GB  2500.0   3002.0  \n",
       "4              29         30 2018-02-23 12:31:18      CA  1000.0   7775.0  "
      ]
     },
     "execution_count": 66,
     "metadata": {},
     "output_type": "execute_result"
    }
   ],
   "source": [
    "df_edas.head()"
   ]
  },
  {
   "cell_type": "code",
   "execution_count": 68,
   "metadata": {},
   "outputs": [],
   "source": [
    "df_edas = df_edas[df_edas['state'] != 'live']"
   ]
  },
  {
   "cell_type": "code",
   "execution_count": 71,
   "metadata": {},
   "outputs": [
    {
     "data": {
      "text/plain": [
       "array(['canceled', 'successful', 'failed', 'suspended'], dtype=object)"
      ]
     },
     "execution_count": 71,
     "metadata": {},
     "output_type": "execute_result"
    }
   ],
   "source": [
    "df_edas.state.unique()"
   ]
  },
  {
   "cell_type": "code",
   "execution_count": 72,
   "metadata": {},
   "outputs": [
    {
     "name": "stderr",
     "output_type": "stream",
     "text": [
      "/anaconda3/lib/python3.6/site-packages/pandas/core/generic.py:5890: SettingWithCopyWarning: \n",
      "A value is trying to be set on a copy of a slice from a DataFrame\n",
      "\n",
      "See the caveats in the documentation: http://pandas.pydata.org/pandas-docs/stable/indexing.html#indexing-view-versus-copy\n",
      "  self._update_inplace(new_data)\n"
     ]
    }
   ],
   "source": [
    "df_edas['state'].replace('canceled','failed',inplace=True)\n",
    "df_edas['state'].replace('suspended','failed',inplace=True)"
   ]
  },
  {
   "cell_type": "code",
   "execution_count": 73,
   "metadata": {},
   "outputs": [
    {
     "data": {
      "text/plain": [
       "array(['failed', 'successful'], dtype=object)"
      ]
     },
     "execution_count": 73,
     "metadata": {},
     "output_type": "execute_result"
    }
   ],
   "source": [
    "df_edas.state.unique()"
   ]
  },
  {
   "cell_type": "code",
   "execution_count": 75,
   "metadata": {},
   "outputs": [],
   "source": [
    "import seaborn as sns\n",
    "import matplotlib.pyplot as plt"
   ]
  },
  {
   "cell_type": "code",
   "execution_count": 82,
   "metadata": {},
   "outputs": [
    {
     "name": "stdout",
     "output_type": "stream",
     "text": [
      "<class 'pandas.core.frame.DataFrame'>\n",
      "Int64Index: 97417 entries, 0 to 1349\n",
      "Data columns (total 11 columns):\n",
      "state                  97417 non-null object\n",
      "spotlight              97417 non-null bool\n",
      "staff_pick             97417 non-null bool\n",
      "project_name_length    97416 non-null float64\n",
      "blurb_length           97412 non-null float64\n",
      "time_to_launch         97417 non-null int64\n",
      "day_limit              97417 non-null int64\n",
      "date_created           97417 non-null datetime64[ns]\n",
      "country                97417 non-null object\n",
      "goal                   97417 non-null float64\n",
      "pledged                97417 non-null float64\n",
      "dtypes: bool(2), datetime64[ns](1), float64(4), int64(2), object(2)\n",
      "memory usage: 10.1+ MB\n"
     ]
    }
   ],
   "source": [
    "df_edas.info()"
   ]
  },
  {
   "cell_type": "code",
   "execution_count": 84,
   "metadata": {},
   "outputs": [
    {
     "data": {
      "image/png": "[encoded data removed]",
      "text/plain": [
       "<Figure size 432x288 with 1 Axes>"
      ]
     },
     "metadata": {
      "needs_background": "light"
     },
     "output_type": "display_data"
    }
   ],
   "source": [
    "sns.boxplot(x = df_edas['state'], y = df_edas['blurb_length']);"
   ]
  },
  {
   "cell_type": "code",
   "execution_count": 85,
   "metadata": {},
   "outputs": [
    {
     "data": {
      "image/png": "[encoded data removed]",
      "text/plain": [
       "<Figure size 432x288 with 1 Axes>"
      ]
     },
     "metadata": {
      "needs_background": "light"
     },
     "output_type": "display_data"
    }
   ],
   "source": [
    "sns.boxplot(x = df_edas['state'], y = df_edas['project_name_length']);"
   ]
  },
  {
   "cell_type": "code",
   "execution_count": 86,
   "metadata": {},
   "outputs": [
    {
     "data": {
      "image/png": "[encoded data removed]",
      "text/plain": [
       "<Figure size 432x288 with 1 Axes>"
      ]
     },
     "metadata": {
      "needs_background": "light"
     },
     "output_type": "display_data"
    }
   ],
   "source": [
    "sns.boxplot(x = df_edas['state'], y = df_edas['goal']);"
   ]
  },
  {
   "cell_type": "code",
   "execution_count": 87,
   "metadata": {},
   "outputs": [
    {
     "data": {
      "image/png": "[encoded data removed]",
      "text/plain": [
       "<Figure size 432x288 with 1 Axes>"
      ]
     },
     "metadata": {
      "needs_background": "light"
     },
     "output_type": "display_data"
    }
   ],
   "source": [
    "sns.boxplot(x = df_edas['state'], y = df_edas['day_limit']);"
   ]
  },
  {
   "cell_type": "code",
   "execution_count": null,
   "metadata": {},
   "outputs": [],
   "source": []
  }
 ],
 "metadata": {
  "kernelspec": {
   "display_name": "Python 3",
   "language": "python",
   "name": "python3"
  },
  "language_info": {
   "codemirror_mode": {
    "name": "ipython",
    "version": 3
   },
   "file_extension": ".py",
   "mimetype": "text/x-python",
   "name": "python",
   "nbconvert_exporter": "python",
   "pygments_lexer": "ipython3",
   "version": "3.6.7"
  }
 },
 "nbformat": 4,
 "nbformat_minor": 2
}
