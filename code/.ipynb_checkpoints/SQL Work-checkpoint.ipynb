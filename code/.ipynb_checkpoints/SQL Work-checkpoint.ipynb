{
 "cells": [
  {
   "cell_type": "markdown",
   "metadata": {},
   "source": [
    "I created 2 tables in psql:\n",
    "```\n",
    "project_mcnulty=# CREATE TABLE intakes(\n",
    "project_mcnulty(# AnimalID VARCHAR NOT NULL,\n",
    "project_mcnulty(# Name VARCHAR,\n",
    "project_mcnulty(# DateTime VARCHAR NOT NULL,\n",
    "project_mcnulty(# MonthYear VARCHAR NOT NULL,\n",
    "project_mcnulty(# FoundLocation VARCHAR,\n",
    "project_mcnulty(# IntakeType VARCHAR,\n",
    "project_mcnulty(# IntakeCondition VARCHAR,\n",
    "project_mcnulty(# AnimalType VARCHAR,\n",
    "project_mcnulty(# SexuponIntake VARCHAR,\n",
    "project_mcnulty(# AgeuponIntake VARCHAR,\n",
    "project_mcnulty(# Breed VARCHAR,\n",
    "project_mcnulty(# Color VARCHAR\n",
    "project_mcnulty(# );\n",
    "\n",
    "\n",
    "CREATE TABLE outcomes(\n",
    "project_mcnulty(# AnimalID VARCHAR NOT NULL,\n",
    "project_mcnulty(# Name VARCHAR,\n",
    "project_mcnulty(# DateTime VARCHAR NOT NULL,\n",
    "project_mcnulty(# MonthYear VARCHAR NOT NULL,\n",
    "project_mcnulty(# DateofBirth VARCHAR,\n",
    "project_mcnulty(# OutcomeType VARCHAR,\n",
    "project_mcnulty(# OutcomeSubtype VARCHAR,\n",
    "project_mcnulty(# AnimalType VARCHAR,\n",
    "project_mcnulty(# SexuponOutcome VARCHAR,\n",
    "project_mcnulty(# AgeuponOutcome VARCHAR,\n",
    "project_mcnulty(# Breed VARCHAR,\n",
    "project_mcnulty(# Color VARCHAR\n",
    "project_mcnulty(# );\n",
    "```"
   ]
  },
  {
   "cell_type": "markdown",
   "metadata": {},
   "source": [
    "Then I imported the CSVs:\n",
    "\n",
    "```\n",
    "COPY intakes FROM '/Users/robertpagano/src/metis_project_mcnulty_v2/data/raw_data/Austin_Animal_Center_Intakes.csv' DELIMITERS ',' CSV;\n",
    "\n",
    "COPY intakes FROM '/Users/robertpagano/src/metis_project_mcnulty_v2/data/raw_data/Austin_Animal_Center_Outcomes.csv' DELIMITERS ',' CSV;\n",
    "```"
   ]
  },
  {
   "cell_type": "markdown",
   "metadata": {},
   "source": [
    "I then merged the tables together on \"Animal ID\":\n",
    "\n",
    "```\n",
    "CREATE VIEW intakes_outcomes AS (\n",
    "    SELECT intakes.*, outcomes.outcomes FROM \n",
    "      intakes LEFT JOIN outcomes\n",
    "      ON intakes.AnimalID = outcomes.AnimalID\n",
    "```"
   ]
  },
  {
   "cell_type": "code",
   "execution_count": null,
   "metadata": {},
   "outputs": [],
   "source": []
  }
 ],
 "metadata": {
  "kernelspec": {
   "display_name": "Python 3",
   "language": "python",
   "name": "python3"
  },
  "language_info": {
   "codemirror_mode": {
    "name": "ipython",
    "version": 3
   },
   "file_extension": ".py",
   "mimetype": "text/x-python",
   "name": "python",
   "nbconvert_exporter": "python",
   "pygments_lexer": "ipython3",
   "version": "3.6.7"
  }
 },
 "nbformat": 4,
 "nbformat_minor": 2
}
